{
  "nbformat": 4,
  "nbformat_minor": 0,
  "metadata": {
    "kernelspec": {
      "display_name": "Python 3",
      "language": "python",
      "name": "python3"
    },
    "language_info": {
      "codemirror_mode": {
        "name": "ipython",
        "version": 3
      },
      "file_extension": ".py",
      "mimetype": "text/x-python",
      "name": "python",
      "nbconvert_exporter": "python",
      "pygments_lexer": "ipython3",
      "version": "3.7.4"
    },
    "colab": {
      "name": "nlp3.ipynb",
      "provenance": []
    }
  },
  "cells": [
    {
      "cell_type": "markdown",
      "metadata": {
        "id": "q6r82A9ngowY"
      },
      "source": [
        "Дз 3. Поиск топиков в текстах, работа с gensim\n",
        "#### Аня Смирнова БКЛ181 \n"
      ]
    },
    {
      "cell_type": "code",
      "metadata": {
        "id": "dUdkQGtDonnr"
      },
      "source": [
        "import re\n",
        "import numpy as np\n",
        "import pandas as pd\n",
        "from pprint import pprint\n",
        "\n",
        "import collections\n",
        "\n",
        "# Gensim\n",
        "import gensim\n",
        "import gensim.corpora as corpora\n",
        "from gensim.utils import simple_preprocess\n",
        "from gensim.models import CoherenceModel\n",
        "\n",
        "# spacy for lemmatization\n",
        "import spacy\n",
        "\n",
        "# Plotting tools\n",
        "import pyLDAvis\n",
        "import pyLDAvis.gensim  # don't skip this\n",
        "import matplotlib.pyplot as plt\n",
        "%matplotlib inline\n",
        "\n",
        "# Enable logging for gensim - optional\n",
        "import logging\n",
        "logging.basicConfig(format='%(asctime)s : %(levelname)s : %(message)s', level=logging.ERROR)\n",
        "\n",
        "import warnings\n",
        "warnings.filterwarnings(\"ignore\",category=DeprecationWarning)"
      ],
      "execution_count": 64,
      "outputs": []
    },
    {
      "cell_type": "code",
      "metadata": {
        "id": "CXqf1Mc0on0Y"
      },
      "source": [
        "from nltk.corpus import stopwords\n",
        "stop_words = stopwords.words('english')\n",
        "stop_words.extend(['from', 'subject', 're', 'edu', 'use'])"
      ],
      "execution_count": 6,
      "outputs": []
    },
    {
      "cell_type": "markdown",
      "metadata": {
        "id": "76zdVp_9hKQt"
      },
      "source": [
        "выгружаем датасет.\n",
        "убираем лишние знаки, стоп-слова, пунктуацию"
      ]
    },
    {
      "cell_type": "code",
      "metadata": {
        "id": "aSBo6Yq6on8B",
        "outputId": "a5618f48-f63d-498d-89b8-92a9be3ec584",
        "colab": {
          "base_uri": "https://localhost:8080/",
          "height": 783
        }
      },
      "source": [
        "df_raw = pd.read_json('https://raw.githubusercontent.com/selva86/datasets/master/newsgroups.json')\n",
        "print(df_raw.target_names.unique())\n",
        "df_raw.head()"
      ],
      "execution_count": 168,
      "outputs": [
        {
          "output_type": "stream",
          "text": [
            "['rec.autos' 'comp.sys.mac.hardware' 'comp.graphics' 'sci.space'\n",
            " 'talk.politics.guns' 'sci.med' 'comp.sys.ibm.pc.hardware'\n",
            " 'comp.os.ms-windows.misc' 'rec.motorcycles' 'talk.religion.misc'\n",
            " 'misc.forsale' 'alt.atheism' 'sci.electronics' 'comp.windows.x'\n",
            " 'rec.sport.hockey' 'rec.sport.baseball' 'soc.religion.christian'\n",
            " 'talk.politics.mideast' 'talk.politics.misc' 'sci.crypt']\n"
          ],
          "name": "stdout"
        },
        {
          "output_type": "execute_result",
          "data": {
            "text/html": [
              "<div>\n",
              "<style scoped>\n",
              "    .dataframe tbody tr th:only-of-type {\n",
              "        vertical-align: middle;\n",
              "    }\n",
              "\n",
              "    .dataframe tbody tr th {\n",
              "        vertical-align: top;\n",
              "    }\n",
              "\n",
              "    .dataframe thead th {\n",
              "        text-align: right;\n",
              "    }\n",
              "</style>\n",
              "<table border=\"1\" class=\"dataframe\">\n",
              "  <thead>\n",
              "    <tr style=\"text-align: right;\">\n",
              "      <th></th>\n",
              "      <th>content</th>\n",
              "      <th>target</th>\n",
              "      <th>target_names</th>\n",
              "    </tr>\n",
              "  </thead>\n",
              "  <tbody>\n",
              "    <tr>\n",
              "      <th>0</th>\n",
              "      <td>From: lerxst@wam.umd.edu (where's my thing)\\nSubject: WHAT car is this!?\\nNntp-Posting-Host: rac3.wam.umd.edu\\nOrganization: University of Maryland, College Park\\nLines: 15\\n\\n I was wondering if anyone out there could enlighten me on this car I saw\\nthe other day. It was a 2-door sports car, looked to be from the late 60s/\\nearly 70s. It was called a Bricklin. The doors were really small. In addition,\\nthe front bumper was separate from the rest of the body. This is \\nall I know. If anyone can tellme a model name, engine specs, years\\nof production, where this car is made, history, or whatever info you\\nhave on this funky looking car, please e-mail.\\n\\nThanks,\\n- IL\\n   ---- brought to you by your neighborhood Lerxst ----\\n\\n\\n\\n\\n</td>\n",
              "      <td>7</td>\n",
              "      <td>rec.autos</td>\n",
              "    </tr>\n",
              "    <tr>\n",
              "      <th>1</th>\n",
              "      <td>From: guykuo@carson.u.washington.edu (Guy Kuo)\\nSubject: SI Clock Poll - Final Call\\nSummary: Final call for SI clock reports\\nKeywords: SI,acceleration,clock,upgrade\\nArticle-I.D.: shelley.1qvfo9INNc3s\\nOrganization: University of Washington\\nLines: 11\\nNNTP-Posting-Host: carson.u.washington.edu\\n\\nA fair number of brave souls who upgraded their SI clock oscillator have\\nshared their experiences for this poll. Please send a brief message detailing\\nyour experiences with the procedure. Top speed attained, CPU rated speed,\\nadd on cards and adapters, heat sinks, hour of usage per day, floppy disk\\nfunctionality with 800 and 1.4 m floppies are especially requested.\\n\\nI will be summarizing in the next two days, so please add to the network\\nknowledge base if you have done the clock upgrade and haven't answered this\\npoll. Thanks.\\n\\nGuy Kuo &lt;guykuo@u.washington.edu&gt;\\n</td>\n",
              "      <td>4</td>\n",
              "      <td>comp.sys.mac.hardware</td>\n",
              "    </tr>\n",
              "    <tr>\n",
              "      <th>2</th>\n",
              "      <td>From: twillis@ec.ecn.purdue.edu (Thomas E Willis)\\nSubject: PB questions...\\nOrganization: Purdue University Engineering Computer Network\\nDistribution: usa\\nLines: 36\\n\\nwell folks, my mac plus finally gave up the ghost this weekend after\\nstarting life as a 512k way back in 1985.  sooo, i'm in the market for a\\nnew machine a bit sooner than i intended to be...\\n\\ni'm looking into picking up a powerbook 160 or maybe 180 and have a bunch\\nof questions that (hopefully) somebody can answer:\\n\\n* does anybody know any dirt on when the next round of powerbook\\nintroductions are expected?  i'd heard the 185c was supposed to make an\\nappearence \"this summer\" but haven't heard anymore on it - and since i\\ndon't have access to macleak, i was wondering if anybody out there had\\nmore info...\\n\\n* has anybody heard rumors about price drops to the powerbook line like the\\nones the duo's just went through recently?\\n\\n* what's the impression of the display on the 180?  i could probably swing\\na 180 if i got the 80Mb disk rather than the 120, but i don't really have\\na feel for how much \"better\" the display is (yea, it looks great in the\\nstore, but is that all \"wow\" or is it really that good?).  could i solicit\\nsome opinions of people who use the 160 and 180 day-to-day on if its worth\\ntaking the disk size and money hit to get the active display?  (i realize\\nthis is a real subjective question, but i've only played around with the\\nmachines in a computer store breifly and figured the opinions of somebody\\nwho actually uses the machine daily might prove helpful).\\n\\n* how well does hellcats perform?  ;)\\n\\nthanks a bunch in advance for any info - if you could email, i'll post a\\nsummary (news reading time is at a premium with finals just around the\\ncorner... :( )\\n--\\nTom Willis  \\  twillis@ecn.purdue.edu    \\    Purdue Electrical Engineering\\n---------------------------------------------------------------------------\\n\"Convictions are more dangerous enemies of truth than lies.\"  - F. W.\\nNietzsche\\n</td>\n",
              "      <td>4</td>\n",
              "      <td>comp.sys.mac.hardware</td>\n",
              "    </tr>\n",
              "    <tr>\n",
              "      <th>3</th>\n",
              "      <td>From: jgreen@amber (Joe Green)\\nSubject: Re: Weitek P9000 ?\\nOrganization: Harris Computer Systems Division\\nLines: 14\\nDistribution: world\\nNNTP-Posting-Host: amber.ssd.csd.harris.com\\nX-Newsreader: TIN [version 1.1 PL9]\\n\\nRobert J.C. Kyanko (rob@rjck.UUCP) wrote:\\n&gt; abraxis@iastate.edu writes in article &lt;abraxis.734340159@class1.iastate.edu&gt;:\\n&gt; &gt; Anyone know about the Weitek P9000 graphics chip?\\n&gt; As far as the low-level stuff goes, it looks pretty nice.  It's got this\\n&gt; quadrilateral fill command that requires just the four points.\\n\\nDo you have Weitek's address/phone number?  I'd like to get some information\\nabout this chip.\\n\\n--\\nJoe Green\\t\\t\\t\\tHarris Corporation\\njgreen@csd.harris.com\\t\\t\\tComputer Systems Division\\n\"The only thing that really scares me is a person with no sense of humor.\"\\n\\t\\t\\t\\t\\t\\t-- Jonathan Winters\\n</td>\n",
              "      <td>1</td>\n",
              "      <td>comp.graphics</td>\n",
              "    </tr>\n",
              "    <tr>\n",
              "      <th>4</th>\n",
              "      <td>From: jcm@head-cfa.harvard.edu (Jonathan McDowell)\\nSubject: Re: Shuttle Launch Question\\nOrganization: Smithsonian Astrophysical Observatory, Cambridge, MA,  USA\\nDistribution: sci\\nLines: 23\\n\\nFrom article &lt;C5owCB.n3p@world.std.com&gt;, by tombaker@world.std.com (Tom A Baker):\\n&gt;&gt;In article &lt;C5JLwx.4H9.1@cs.cmu.edu&gt;, ETRAT@ttacs1.ttu.edu (Pack Rat) writes...\\n&gt;&gt;&gt;\"Clear caution &amp; warning memory.  Verify no unexpected\\n&gt;&gt;&gt;errors. ...\".  I am wondering what an \"expected error\" might\\n&gt;&gt;&gt;be.  Sorry if this is a really dumb question, but\\n&gt; \\n&gt; Parity errors in memory or previously known conditions that were waivered.\\n&gt;    \"Yes that is an error, but we already knew about it\"\\n&gt; I'd be curious as to what the real meaning of the quote is.\\n&gt; \\n&gt; tom\\n\\n\\nMy understanding is that the 'expected errors' are basically\\nknown bugs in the warning system software - things are checked\\nthat don't have the right values in yet because they aren't\\nset till after launch, and suchlike. Rather than fix the code\\nand possibly introduce new bugs, they just tell the crew\\n'ok, if you see a warning no. 213 before liftoff, ignore it'.\\n\\n - Jonathan\\n\\n\\n</td>\n",
              "      <td>14</td>\n",
              "      <td>sci.space</td>\n",
              "    </tr>\n",
              "  </tbody>\n",
              "</table>\n",
              "</div>"
            ],
            "text/plain": [
              "                                                                                                                                                                                                                                                                                                                                                                                                                                                                                                                                                                                                                                                                                                                                                                                                                                                                                                                                                                                                                                                                                                                                                                                                                                                                                                                                                                                                                                                                                                                                                                                                                                                                                                                                                                                                                                                                                                                                                                                                                                                                                                   content  ...           target_names\n",
              "0  From: lerxst@wam.umd.edu (where's my thing)\\nSubject: WHAT car is this!?\\nNntp-Posting-Host: rac3.wam.umd.edu\\nOrganization: University of Maryland, College Park\\nLines: 15\\n\\n I was wondering if anyone out there could enlighten me on this car I saw\\nthe other day. It was a 2-door sports car, looked to be from the late 60s/\\nearly 70s. It was called a Bricklin. The doors were really small. In addition,\\nthe front bumper was separate from the rest of the body. This is \\nall I know. If anyone can tellme a model name, engine specs, years\\nof production, where this car is made, history, or whatever info you\\nhave on this funky looking car, please e-mail.\\n\\nThanks,\\n- IL\\n   ---- brought to you by your neighborhood Lerxst ----\\n\\n\\n\\n\\n                                                                                                                                                                                                                                                                                                                                                                                                                                                                                                                                                                                                                                                                                                                                                                                                                                                                                                                                                                                                                                                                                                                                                                                                                                                                                                                                   ...  rec.autos            \n",
              "1  From: guykuo@carson.u.washington.edu (Guy Kuo)\\nSubject: SI Clock Poll - Final Call\\nSummary: Final call for SI clock reports\\nKeywords: SI,acceleration,clock,upgrade\\nArticle-I.D.: shelley.1qvfo9INNc3s\\nOrganization: University of Washington\\nLines: 11\\nNNTP-Posting-Host: carson.u.washington.edu\\n\\nA fair number of brave souls who upgraded their SI clock oscillator have\\nshared their experiences for this poll. Please send a brief message detailing\\nyour experiences with the procedure. Top speed attained, CPU rated speed,\\nadd on cards and adapters, heat sinks, hour of usage per day, floppy disk\\nfunctionality with 800 and 1.4 m floppies are especially requested.\\n\\nI will be summarizing in the next two days, so please add to the network\\nknowledge base if you have done the clock upgrade and haven't answered this\\npoll. Thanks.\\n\\nGuy Kuo <guykuo@u.washington.edu>\\n                                                                                                                                                                                                                                                                                                                                                                                                                                                                                                                                                                                                                                                                                                                                                                                                                                                                                                                                                                                                                                                                                                                                                                                           ...  comp.sys.mac.hardware\n",
              "2  From: twillis@ec.ecn.purdue.edu (Thomas E Willis)\\nSubject: PB questions...\\nOrganization: Purdue University Engineering Computer Network\\nDistribution: usa\\nLines: 36\\n\\nwell folks, my mac plus finally gave up the ghost this weekend after\\nstarting life as a 512k way back in 1985.  sooo, i'm in the market for a\\nnew machine a bit sooner than i intended to be...\\n\\ni'm looking into picking up a powerbook 160 or maybe 180 and have a bunch\\nof questions that (hopefully) somebody can answer:\\n\\n* does anybody know any dirt on when the next round of powerbook\\nintroductions are expected?  i'd heard the 185c was supposed to make an\\nappearence \"this summer\" but haven't heard anymore on it - and since i\\ndon't have access to macleak, i was wondering if anybody out there had\\nmore info...\\n\\n* has anybody heard rumors about price drops to the powerbook line like the\\nones the duo's just went through recently?\\n\\n* what's the impression of the display on the 180?  i could probably swing\\na 180 if i got the 80Mb disk rather than the 120, but i don't really have\\na feel for how much \"better\" the display is (yea, it looks great in the\\nstore, but is that all \"wow\" or is it really that good?).  could i solicit\\nsome opinions of people who use the 160 and 180 day-to-day on if its worth\\ntaking the disk size and money hit to get the active display?  (i realize\\nthis is a real subjective question, but i've only played around with the\\nmachines in a computer store breifly and figured the opinions of somebody\\nwho actually uses the machine daily might prove helpful).\\n\\n* how well does hellcats perform?  ;)\\n\\nthanks a bunch in advance for any info - if you could email, i'll post a\\nsummary (news reading time is at a premium with finals just around the\\ncorner... :( )\\n--\\nTom Willis  \\  twillis@ecn.purdue.edu    \\    Purdue Electrical Engineering\\n---------------------------------------------------------------------------\\n\"Convictions are more dangerous enemies of truth than lies.\"  - F. W.\\nNietzsche\\n  ...  comp.sys.mac.hardware\n",
              "3  From: jgreen@amber (Joe Green)\\nSubject: Re: Weitek P9000 ?\\nOrganization: Harris Computer Systems Division\\nLines: 14\\nDistribution: world\\nNNTP-Posting-Host: amber.ssd.csd.harris.com\\nX-Newsreader: TIN [version 1.1 PL9]\\n\\nRobert J.C. Kyanko (rob@rjck.UUCP) wrote:\\n> abraxis@iastate.edu writes in article <abraxis.734340159@class1.iastate.edu>:\\n> > Anyone know about the Weitek P9000 graphics chip?\\n> As far as the low-level stuff goes, it looks pretty nice.  It's got this\\n> quadrilateral fill command that requires just the four points.\\n\\nDo you have Weitek's address/phone number?  I'd like to get some information\\nabout this chip.\\n\\n--\\nJoe Green\\t\\t\\t\\tHarris Corporation\\njgreen@csd.harris.com\\t\\t\\tComputer Systems Division\\n\"The only thing that really scares me is a person with no sense of humor.\"\\n\\t\\t\\t\\t\\t\\t-- Jonathan Winters\\n                                                                                                                                                                                                                                                                                                                                                                                                                                                                                                                                                                                                                                                                                                                                                                                                                                                                                                                                                                                                                                                                                                                                                                                                                       ...  comp.graphics        \n",
              "4  From: jcm@head-cfa.harvard.edu (Jonathan McDowell)\\nSubject: Re: Shuttle Launch Question\\nOrganization: Smithsonian Astrophysical Observatory, Cambridge, MA,  USA\\nDistribution: sci\\nLines: 23\\n\\nFrom article <C5owCB.n3p@world.std.com>, by tombaker@world.std.com (Tom A Baker):\\n>>In article <C5JLwx.4H9.1@cs.cmu.edu>, ETRAT@ttacs1.ttu.edu (Pack Rat) writes...\\n>>>\"Clear caution & warning memory.  Verify no unexpected\\n>>>errors. ...\".  I am wondering what an \"expected error\" might\\n>>>be.  Sorry if this is a really dumb question, but\\n> \\n> Parity errors in memory or previously known conditions that were waivered.\\n>    \"Yes that is an error, but we already knew about it\"\\n> I'd be curious as to what the real meaning of the quote is.\\n> \\n> tom\\n\\n\\nMy understanding is that the 'expected errors' are basically\\nknown bugs in the warning system software - things are checked\\nthat don't have the right values in yet because they aren't\\nset till after launch, and suchlike. Rather than fix the code\\nand possibly introduce new bugs, they just tell the crew\\n'ok, if you see a warning no. 213 before liftoff, ignore it'.\\n\\n - Jonathan\\n\\n\\n                                                                                                                                                                                                                                                                                                                                                                                                                                                                                                                                                                                                                                                                                                                                                                                                                                                                                                            ...  sci.space            \n",
              "\n",
              "[5 rows x 3 columns]"
            ]
          },
          "metadata": {
            "tags": []
          },
          "execution_count": 168
        }
      ]
    },
    {
      "cell_type": "code",
      "metadata": {
        "id": "E1vQLxa3TbrA",
        "outputId": "a5961750-1b0f-4445-f9a4-9f0cead27b9e",
        "colab": {
          "base_uri": "https://localhost:8080/",
          "height": 185
        }
      },
      "source": [
        "data = df_raw.content.values.tolist()\n",
        "data = [re.sub('\\S*@\\S*\\s?', '', sent) for sent in data]\n",
        "data = [re.sub('\\s+', ' ', sent) for sent in data]\n",
        "data = [re.sub(\"\\'\", \"\", sent) for sent in data]\n",
        "\n",
        "pprint(data[:1])"
      ],
      "execution_count": 172,
      "outputs": [
        {
          "output_type": "stream",
          "text": [
            "['From: (wheres my thing) Subject: WHAT car is this!? Nntp-Posting-Host: '\n",
            " 'rac3.wam.umd.edu Organization: University of Maryland, College Park Lines: '\n",
            " '15 I was wondering if anyone out there could enlighten me on this car I saw '\n",
            " 'the other day. It was a 2-door sports car, looked to be from the late 60s/ '\n",
            " 'early 70s. It was called a Bricklin. The doors were really small. In '\n",
            " 'addition, the front bumper was separate from the rest of the body. This is '\n",
            " 'all I know. If anyone can tellme a model name, engine specs, years of '\n",
            " 'production, where this car is made, history, or whatever info you have on '\n",
            " 'this funky looking car, please e-mail. Thanks, - IL ---- brought to you by '\n",
            " 'your neighborhood Lerxst ---- ']\n"
          ],
          "name": "stdout"
        }
      ]
    },
    {
      "cell_type": "code",
      "metadata": {
        "id": "pmyqeXMtrX4S",
        "outputId": "b664e91d-2027-48af-bdeb-008a9f613c6b",
        "colab": {
          "base_uri": "https://localhost:8080/",
          "height": 54
        }
      },
      "source": [
        "def sent_to_words(sentences):\n",
        "    for sentence in sentences:\n",
        "        yield(gensim.utils.simple_preprocess(str(sentence), deacc=True))  # deacc=True removes punctuations\n",
        "data_words = list(sent_to_words(data))\n",
        "print(data_words[:1])"
      ],
      "execution_count": 173,
      "outputs": [
        {
          "output_type": "stream",
          "text": [
            "[['from', 'wheres', 'my', 'thing', 'subject', 'what', 'car', 'is', 'this', 'nntp', 'posting', 'host', 'rac', 'wam', 'umd', 'edu', 'organization', 'university', 'of', 'maryland', 'college', 'park', 'lines', 'was', 'wondering', 'if', 'anyone', 'out', 'there', 'could', 'enlighten', 'me', 'on', 'this', 'car', 'saw', 'the', 'other', 'day', 'it', 'was', 'door', 'sports', 'car', 'looked', 'to', 'be', 'from', 'the', 'late', 'early', 'it', 'was', 'called', 'bricklin', 'the', 'doors', 'were', 'really', 'small', 'in', 'addition', 'the', 'front', 'bumper', 'was', 'separate', 'from', 'the', 'rest', 'of', 'the', 'body', 'this', 'is', 'all', 'know', 'if', 'anyone', 'can', 'tellme', 'model', 'name', 'engine', 'specs', 'years', 'of', 'production', 'where', 'this', 'car', 'is', 'made', 'history', 'or', 'whatever', 'info', 'you', 'have', 'on', 'this', 'funky', 'looking', 'car', 'please', 'mail', 'thanks', 'il', 'brought', 'to', 'you', 'by', 'your', 'neighborhood', 'lerxst']]\n"
          ],
          "name": "stdout"
        }
      ]
    },
    {
      "cell_type": "markdown",
      "metadata": {
        "id": "u_Z1X9dHhqgt"
      },
      "source": [
        "составляем биграмы и триграмы"
      ]
    },
    {
      "cell_type": "code",
      "metadata": {
        "id": "LPSGGQ8U3uO-",
        "outputId": "bbfdc7dd-af7c-48e6-fb21-e3cef31ba291",
        "colab": {
          "base_uri": "https://localhost:8080/",
          "height": 87
        }
      },
      "source": [
        "# Build the bigram and trigram models\n",
        "bigram = gensim.models.Phrases(data_words, min_count=5, threshold=100) # higher threshold fewer phrases.\n",
        "trigram = gensim.models.Phrases(bigram[data_words], threshold=100)  \n",
        "\n",
        "# Faster way to get a sentence clubbed as a trigram/bigram\n",
        "bigram_mod = gensim.models.phrases.Phraser(bigram)\n",
        "trigram_mod = gensim.models.phrases.Phraser(trigram)\n",
        "\n",
        "# See trigram example\n",
        "print(trigram_mod[bigram_mod[data_words[0]]])"
      ],
      "execution_count": 11,
      "outputs": [
        {
          "output_type": "stream",
          "text": [
            "/usr/local/lib/python3.6/dist-packages/gensim/models/phrases.py:598: UserWarning: For a faster implementation, use the gensim.models.phrases.Phraser class\n",
            "  warnings.warn(\"For a faster implementation, use the gensim.models.phrases.Phraser class\")\n"
          ],
          "name": "stderr"
        },
        {
          "output_type": "stream",
          "text": [
            "['from', 'wheres', 'my', 'thing', 'subject', 'what', 'car', 'is', 'this', 'nntp_posting_host', 'rac_wam_umd_edu', 'organization', 'university', 'of', 'maryland_college_park', 'lines', 'was', 'wondering', 'if', 'anyone', 'out', 'there', 'could', 'enlighten', 'me', 'on', 'this', 'car', 'saw', 'the', 'other', 'day', 'it', 'was', 'door', 'sports', 'car', 'looked', 'to', 'be', 'from', 'the', 'late', 'early', 'it', 'was', 'called', 'bricklin', 'the', 'doors', 'were', 'really', 'small', 'in', 'addition', 'the', 'front_bumper', 'was', 'separate', 'from', 'the', 'rest', 'of', 'the', 'body', 'this', 'is', 'all', 'know', 'if', 'anyone', 'can', 'tellme', 'model', 'name', 'engine', 'specs', 'years', 'of', 'production', 'where', 'this', 'car', 'is', 'made', 'history', 'or', 'whatever', 'info', 'you', 'have', 'on', 'this', 'funky', 'looking', 'car', 'please', 'mail', 'thanks', 'il', 'brought', 'to', 'you', 'by', 'your', 'neighborhood', 'lerxst']\n"
          ],
          "name": "stdout"
        }
      ]
    },
    {
      "cell_type": "code",
      "metadata": {
        "id": "2ekNNSTE4ga6"
      },
      "source": [
        "def remove_stopwords(texts):\n",
        "    return [[word for word in simple_preprocess(str(doc)) if word not in stop_words] for doc in texts]\n",
        "def make_bigrams(texts):\n",
        "    return [bigram_mod[doc] for doc in texts]\n",
        "def make_trigrams(texts):\n",
        "    return [trigram_mod[bigram_mod[doc]] for doc in texts]\n",
        "def lemmatization(texts, allowed_postags=['NOUN', 'ADJ', 'VERB', 'ADV']):\n",
        "    \"\"\"https://spacy.io/api/annotation\"\"\"\n",
        "    texts_out = []\n",
        "    for sent in texts:\n",
        "        doc = nlp(\" \".join(sent)) \n",
        "        texts_out.append([token.lemma_ for token in doc if token.pos_ in allowed_postags])\n",
        "    return texts_out"
      ],
      "execution_count": 12,
      "outputs": []
    },
    {
      "cell_type": "code",
      "metadata": {
        "id": "jNcnMcpT47c0",
        "outputId": "be79d745-607e-4c83-f539-0f55fc0c416c",
        "colab": {
          "base_uri": "https://localhost:8080/",
          "height": 54
        }
      },
      "source": [
        "# Remove Stop Words\n",
        "data_words_nostops = remove_stopwords(data_words)\n",
        "# Form Bigrams\n",
        "data_words_bigrams = make_bigrams(data_words_nostops)\n",
        "# Initialize spacy 'en' model, keeping only tagger component (for efficiency)\n",
        "# python3 -m spacy download en\n",
        "nlp = spacy.load('en', disable=['parser', 'ner'])\n",
        "# Do lemmatization keeping only noun, adj, vb, adv\n",
        "data_lemmatized = lemmatization(data_words_bigrams, allowed_postags=['NOUN', 'ADJ', 'VERB', 'ADV'])\n",
        "print(data_lemmatized[:1])"
      ],
      "execution_count": 174,
      "outputs": [
        {
          "output_type": "stream",
          "text": [
            "[['where', 'thing', 'car', 'nntp_poste', 'host', 'park', 'line', 'wonder', 'could', 'enlighten', 'car', 'see', 'day', 'door', 'sport', 'car', 'look', 'late', 'early', 'call', 'bricklin', 'door', 'really', 'small', 'addition', 'separate', 'rest', 'body', 'know', 'tellme', 'model', 'name', 'engine', 'year', 'production', 'car', 'make', 'history', 'info', 'funky', 'look', 'car', 'mail', 'thank', 'bring', 'neighborhood', 'lerxst']]\n"
          ],
          "name": "stdout"
        }
      ]
    },
    {
      "cell_type": "markdown",
      "metadata": {
        "id": "astH49ghh2yg"
      },
      "source": [
        "создаем корпус, каждому слову в корпусе соответствует определенный номер (корпус - лист из листов, которые содержат словари айди_слова - частотность)"
      ]
    },
    {
      "cell_type": "code",
      "metadata": {
        "id": "gJPtlf7U5Hj0",
        "outputId": "c92db121-6f17-4127-f149-edb344dcf6c9",
        "colab": {
          "base_uri": "https://localhost:8080/",
          "height": 54
        }
      },
      "source": [
        "# Create Dictionary\n",
        "id2word = corpora.Dictionary(data_lemmatized)\n",
        "# Create Corpus\n",
        "texts = data_lemmatized\n",
        "# Term Document Frequency\n",
        "corpus = [id2word.doc2bow(text) for text in texts]\n",
        "# View\n",
        "print(corpus[:1])"
      ],
      "execution_count": 14,
      "outputs": [
        {
          "output_type": "stream",
          "text": [
            "[[(0, 1), (1, 1), (2, 1), (3, 1), (4, 1), (5, 5), (6, 1), (7, 1), (8, 2), (9, 1), (10, 1), (11, 1), (12, 1), (13, 1), (14, 1), (15, 1), (16, 1), (17, 1), (18, 1), (19, 1), (20, 2), (21, 1), (22, 1), (23, 1), (24, 1), (25, 1), (26, 1), (27, 1), (28, 1), (29, 1), (30, 1), (31, 1), (32, 1), (33, 1), (34, 1), (35, 1), (36, 1), (37, 1), (38, 1), (39, 1), (40, 1)]]\n"
          ],
          "name": "stdout"
        }
      ]
    },
    {
      "cell_type": "code",
      "metadata": {
        "id": "pje1EBDp67z9"
      },
      "source": [
        "dict_corpus = {}\n",
        "\n",
        "for i in range(len(corpus)):\n",
        "  for idx, freq in corpus[i]:\n",
        "    if id2word[idx] in dict_corpus:\n",
        "      dict_corpus[id2word[idx]] += freq\n",
        "    else:\n",
        "       dict_corpus[id2word[idx]] = freq\n",
        "       \n",
        "dict_df = pd.DataFrame.from_dict(dict_corpus, orient='index', columns=['freq'])"
      ],
      "execution_count": 17,
      "outputs": []
    },
    {
      "cell_type": "code",
      "metadata": {
        "id": "XXCcd8Dd7ORl",
        "outputId": "91b97a12-ac36-4a2c-82b5-bc5c07c58d95",
        "colab": {
          "base_uri": "https://localhost:8080/",
          "height": 343
        }
      },
      "source": [
        "dict_df.sort_values('freq', ascending=False).head(10) #тут вывели слова, которые встречаются в корпусе больше всего"
      ],
      "execution_count": 18,
      "outputs": [
        {
          "output_type": "execute_result",
          "data": {
            "text/html": [
              "<div>\n",
              "<style scoped>\n",
              "    .dataframe tbody tr th:only-of-type {\n",
              "        vertical-align: middle;\n",
              "    }\n",
              "\n",
              "    .dataframe tbody tr th {\n",
              "        vertical-align: top;\n",
              "    }\n",
              "\n",
              "    .dataframe thead th {\n",
              "        text-align: right;\n",
              "    }\n",
              "</style>\n",
              "<table border=\"1\" class=\"dataframe\">\n",
              "  <thead>\n",
              "    <tr style=\"text-align: right;\">\n",
              "      <th></th>\n",
              "      <th>freq</th>\n",
              "    </tr>\n",
              "  </thead>\n",
              "  <tbody>\n",
              "    <tr>\n",
              "      <th>line</th>\n",
              "      <td>11776</td>\n",
              "    </tr>\n",
              "    <tr>\n",
              "      <th>would</th>\n",
              "      <td>11604</td>\n",
              "    </tr>\n",
              "    <tr>\n",
              "      <th>write</th>\n",
              "      <td>10042</td>\n",
              "    </tr>\n",
              "    <tr>\n",
              "      <th>say</th>\n",
              "      <td>7029</td>\n",
              "    </tr>\n",
              "    <tr>\n",
              "      <th>know</th>\n",
              "      <td>6550</td>\n",
              "    </tr>\n",
              "    <tr>\n",
              "      <th>article</th>\n",
              "      <td>6451</td>\n",
              "    </tr>\n",
              "    <tr>\n",
              "      <th>people</th>\n",
              "      <td>6002</td>\n",
              "    </tr>\n",
              "    <tr>\n",
              "      <th>go</th>\n",
              "      <td>5846</td>\n",
              "    </tr>\n",
              "    <tr>\n",
              "      <th>make</th>\n",
              "      <td>5768</td>\n",
              "    </tr>\n",
              "    <tr>\n",
              "      <th>think</th>\n",
              "      <td>5712</td>\n",
              "    </tr>\n",
              "  </tbody>\n",
              "</table>\n",
              "</div>"
            ],
            "text/plain": [
              "          freq\n",
              "line     11776\n",
              "would    11604\n",
              "write    10042\n",
              "say       7029\n",
              "know      6550\n",
              "article   6451\n",
              "people    6002\n",
              "go        5846\n",
              "make      5768\n",
              "think     5712"
            ]
          },
          "metadata": {
            "tags": []
          },
          "execution_count": 18
        }
      ]
    },
    {
      "cell_type": "markdown",
      "metadata": {
        "id": "47SMrgI3ie6_"
      },
      "source": [
        "дальше работаем с **mallet**"
      ]
    },
    {
      "cell_type": "code",
      "metadata": {
        "id": "m32Z277E7uCW"
      },
      "source": [
        "#!wget http://mallet.cs.umass.edu/dist/mallet-2.0.8.zip"
      ],
      "execution_count": 181,
      "outputs": []
    },
    {
      "cell_type": "code",
      "metadata": {
        "id": "rQakhkVx7p3e"
      },
      "source": [
        "#!unzip mallet-2.0.8.zip"
      ],
      "execution_count": 182,
      "outputs": []
    },
    {
      "cell_type": "markdown",
      "metadata": {
        "id": "B9MqhHXHip_F"
      },
      "source": [
        "функция, которая подбирает оптимальное количество групп топиков (грузится ужасно долго,взяла шаг 10, самое оптимальное вышло **32 группы**)"
      ]
    },
    {
      "cell_type": "code",
      "metadata": {
        "id": "NNOsb7nul90q"
      },
      "source": [
        "def compute_coherence_values(dictionary, corpus, texts, start, limit, step):\n",
        "    coherence_values = []\n",
        "    model_list = []\n",
        "    for num_topics in range(start, limit, step):\n",
        "        mallet_path = '/content/mallet-2.0.8/bin/mallet' \n",
        "        ldamallet = gensim.models.wrappers.LdaMallet(mallet_path, corpus=corpus, num_topics=num_topics, id2word=id2word)\n",
        "        model_list.append(ldamallet)\n",
        "        coherence_model_ldamallet = CoherenceModel(model=ldamallet, texts=data_lemmatized, dictionary=id2word, coherence='c_v')\n",
        "        coherence_ldamallet = coherence_model_ldamallet.get_coherence()\n",
        "        print(coherence_ldamallet)\n",
        "        coherence_values.append(coherence_ldamallet)\n",
        "\n",
        "    return model_list, coherence_values"
      ],
      "execution_count": 27,
      "outputs": []
    },
    {
      "cell_type": "code",
      "metadata": {
        "id": "b7jNHUC9mufC",
        "outputId": "d79ff439-3411-479e-9bdd-a38e93971a32",
        "colab": {
          "base_uri": "https://localhost:8080/",
          "height": 138
        }
      },
      "source": [
        "model_list, coherence_values = compute_coherence_values(dictionary=id2word, corpus=corpus, texts=data_lemmatized, start=2, limit=40, step=10)"
      ],
      "execution_count": 28,
      "outputs": [
        {
          "output_type": "stream",
          "text": [
            "/usr/local/lib/python3.6/dist-packages/smart_open/smart_open_lib.py:252: UserWarning: This function is deprecated, use smart_open.open instead. See the migration notes for details: https://github.com/RaRe-Technologies/smart_open/blob/master/README.rst#migrating-to-the-new-open-function\n",
            "  'See the migration notes for details: %s' % _MIGRATION_NOTES_URL\n"
          ],
          "name": "stderr"
        },
        {
          "output_type": "stream",
          "text": [
            "0.37658984558561215\n",
            "0.5035707198498258\n",
            "0.5371216733238552\n",
            "0.545619030897206\n"
          ],
          "name": "stdout"
        }
      ]
    },
    {
      "cell_type": "code",
      "metadata": {
        "id": "QnwYRIssn7wG",
        "outputId": "78360c72-2f2b-44d8-8ed7-206e2a6a9b4d",
        "colab": {
          "base_uri": "https://localhost:8080/",
          "height": 279
        }
      },
      "source": [
        "# для наглядности вывела график, показывающий, как изменяется coherence в зависимости от кол-ва топиков\n",
        "start=2; limit=40; step=10;\n",
        "x = range(start, limit, step)\n",
        "plt.plot(x, coherence_values)\n",
        "plt.xlabel(\"Num Topics\")\n",
        "plt.ylabel(\"Coherence score\")\n",
        "plt.legend((\"coherence_values\"), loc='best')\n",
        "plt.show()"
      ],
      "execution_count": 29,
      "outputs": [
        {
          "output_type": "display_data",
          "data": {
            "image/png": "[encoded data removed]",
            "text/plain": [
              "<Figure size 432x288 with 1 Axes>"
            ]
          },
          "metadata": {
            "tags": [],
            "needs_background": "light"
          }
        }
      ]
    },
    {
      "cell_type": "code",
      "metadata": {
        "id": "cMAewRXSoK6s",
        "outputId": "3f654c1f-4ef3-48aa-b400-00d3f6299d74",
        "colab": {
          "base_uri": "https://localhost:8080/",
          "height": 84
        }
      },
      "source": [
        "for m, cv in zip(range(start, limit, step), coherence_values):\n",
        "    print(\"Num Topics =\", m, \" has Coherence Value of\", round(cv, 4))"
      ],
      "execution_count": 30,
      "outputs": [
        {
          "output_type": "stream",
          "text": [
            "Num Topics = 2  has Coherence Value of 0.3766\n",
            "Num Topics = 12  has Coherence Value of 0.5036\n",
            "Num Topics = 22  has Coherence Value of 0.5371\n",
            "Num Topics = 32  has Coherence Value of 0.5456\n"
          ],
          "name": "stdout"
        }
      ]
    },
    {
      "cell_type": "markdown",
      "metadata": {
        "id": "gHMDGnjlpPvw"
      },
      "source": [
        "определяем главный топик в текстах"
      ]
    },
    {
      "cell_type": "code",
      "metadata": {
        "id": "zxtR0QCzVgIr",
        "outputId": "a32640fa-6403-48af-a6a2-1c334a16b472",
        "colab": {
          "base_uri": "https://localhost:8080/",
          "height": 104
        }
      },
      "source": [
        "mallet_path = '/content/mallet-2.0.8/bin/mallet' \n",
        "ldamallet = gensim.models.wrappers.LdaMallet(mallet_path, corpus=corpus, num_topics=32, id2word=id2word)\n",
        "tm_results = ldamallet[corpus]\n",
        "corpus_topics = [sorted(topics, key=lambda record: -record[1])[0] for topics in tm_results]\n",
        "topics = [[(term, round(wt, 3)) for term, wt in ldamallet.show_topic(n, topn=20)] for n in range(0, ldamallet.num_topics)]\n",
        "topics_df = pd.DataFrame([[term for term, wt in topic] for topic in topics], columns = ['Term'+str(i) for i in range(1, 21)], index=['Topic '+str(t) for t in range(1, ldamallet.num_topics+1)]).T\n",
        "pd.set_option('display.max_colwidth', -1)\n",
        "topics_df = pd.DataFrame([', '.join([term for term, wt in topic]) for topic in topics], columns = ['Terms per Topic'], index=['Topic'+str(t) for t in range(1, ldamallet.num_topics+1)] )"
      ],
      "execution_count": 175,
      "outputs": [
        {
          "output_type": "stream",
          "text": [
            "/usr/local/lib/python3.6/dist-packages/smart_open/smart_open_lib.py:252: UserWarning: This function is deprecated, use smart_open.open instead. See the migration notes for details: https://github.com/RaRe-Technologies/smart_open/blob/master/README.rst#migrating-to-the-new-open-function\n",
            "  'See the migration notes for details: %s' % _MIGRATION_NOTES_URL\n",
            "/usr/local/lib/python3.6/dist-packages/ipykernel_launcher.py:7: FutureWarning: Passing a negative integer is deprecated in version 1.0 and will not be supported in future version. Instead, use None to not limit the column width.\n",
            "  import sys\n"
          ],
          "name": "stderr"
        }
      ]
    },
    {
      "cell_type": "code",
      "metadata": {
        "id": "hjX1ixKXVs-g",
        "outputId": "725e91f3-d8de-4067-be7d-73f651d7babb",
        "colab": {
          "base_uri": "https://localhost:8080/",
          "height": 1000
        }
      },
      "source": [
        "# создаем датафрейм для наглядности\n",
        "corpus_topic_df = pd.DataFrame()\n",
        "corpus_topic_df['Title'] = df.target_names\n",
        "corpus_topic_df['Dominant Topic'] = [item[0]+1 for item in corpus_topics]\n",
        "corpus_topic_df['Contribution %'] = [round(item[1]*100, 2) for item in corpus_topics]\n",
        "corpus_topic_df['Topic Terms'] = [topics_df.iloc[t[0]]['Terms per Topic'] for t in corpus_topics]\n",
        "#добавляем изначальный текст в датафрейм\n",
        "contents = pd.Series(texts)\n",
        "corpus_topic_df = pd.concat([corpus_topic_df, contents], axis=1)\n",
        "corpus_topic_df.columns = ['Title', 'Dominant_Topic', 'Contribution %', 'Topic Terms', 'Text']\n",
        "corpus_topic_df"
      ],
      "execution_count": 63,
      "outputs": [
        {
          "output_type": "execute_result",
          "data": {
            "text/html": [
              "<div>\n",
              "<style scoped>\n",
              "    .dataframe tbody tr th:only-of-type {\n",
              "        vertical-align: middle;\n",
              "    }\n",
              "\n",
              "    .dataframe tbody tr th {\n",
              "        vertical-align: top;\n",
              "    }\n",
              "\n",
              "    .dataframe thead th {\n",
              "        text-align: right;\n",
              "    }\n",
              "</style>\n",
              "<table border=\"1\" class=\"dataframe\">\n",
              "  <thead>\n",
              "    <tr style=\"text-align: right;\">\n",
              "      <th></th>\n",
              "      <th>Title</th>\n",
              "      <th>Dominant_Topic</th>\n",
              "      <th>Contribution %</th>\n",
              "      <th>Topic Terms</th>\n",
              "      <th>Text</th>\n",
              "    </tr>\n",
              "  </thead>\n",
              "  <tbody>\n",
              "    <tr>\n",
              "      <th>0</th>\n",
              "      <td>rec.autos</td>\n",
              "      <td>21</td>\n",
              "      <td>19.29</td>\n",
              "      <td>car, engine, good, drive, speed, mile, buy, model, oil, article, road, owner, tire, driver, change, lock, dealer, high, light, brake</td>\n",
              "      <td>[where, thing, car, nntp_poste, host, park, line, wonder, could, enlighten, car, see, day, door, sport, car, look, late, early, call, bricklin, door, really, small, addition, separate, rest, body, know, tellme, model, name, engine, year, production, car, make, history, info, funky, look, car, mail, thank, bring, neighborhood, lerxst]</td>\n",
              "    </tr>\n",
              "    <tr>\n",
              "      <th>1</th>\n",
              "      <td>comp.sys.mac.hardware</td>\n",
              "      <td>11</td>\n",
              "      <td>11.78</td>\n",
              "      <td>card, driver, bit, speed, memory, scsi, fast, pc, run, chip, machine, mode, printer, port, bus, slow, performance, board, device, ram</td>\n",
              "      <td>[poll, final, call, summary, final, call, clock, report, keyword, acceleration, line, host, fair, number, brave, soul, upgrade, clock, oscillator, share, experience, poll, send, brief, message, detailing, experience, procedure, top, speed, attain, cpu, rate, speed, add, card, hour, usage, day, functionality, floppy, especially, request, summarize, next, day, add, network, knowledge, base, do, clock, upgrade, answer, poll, thank]</td>\n",
              "    </tr>\n",
              "    <tr>\n",
              "      <th>2</th>\n",
              "      <td>comp.sys.mac.hardware</td>\n",
              "      <td>19</td>\n",
              "      <td>9.46</td>\n",
              "      <td>drive, system, problem, work, disk, line, computer, tape, pin, apple, machine, boot, internal, add, cable, switch, instal, controller, type, set</td>\n",
              "      <td>[engineering, computer, network, distribution_usa, line, well, folk, finally, give, ghost, weekend, start, life, way, back, be, market, new, machine, bit, sooner, intend, be, look, pick, powerbook, maybe, bunch, question, hopefully, answer, know, dirt, powerbook, introduction, expect, would, hear, suppose, make, appearence, summer, hear, anymore, since, access, macleak, wonder, info, hear, rumor, price, drop, line, one, duos, go, recently, s, impression, display, could, probably, swing, get, disk, rather, really, feel, much, well, display, yea, look, great, store, really, good, could, solicit, opinion, people, day, worth, take, disk, size, money, hit, get, active, display, realize, real, subjective, question, have, play, machine, computer, ...]</td>\n",
              "    </tr>\n",
              "    <tr>\n",
              "      <th>3</th>\n",
              "      <td>comp.graphics</td>\n",
              "      <td>12</td>\n",
              "      <td>7.84</td>\n",
              "      <td>write, article, line, organization, host, nntp_poste, reply, opinion, news, university, disclaimer, originator, nntp_posting, net, employer, previous, necessarily, mine, dept, joke</td>\n",
              "      <td>[division, line, host, write, write, article, know, chip, far, stuff, go, look, pretty, nice, get, quadrilateral, fill, command, require, point, weitek, address, phone, number, would, information, chip, division, thing, really, scare, person, sense, humor, winter]</td>\n",
              "    </tr>\n",
              "    <tr>\n",
              "      <th>4</th>\n",
              "      <td>sci.space</td>\n",
              "      <td>9</td>\n",
              "      <td>11.95</td>\n",
              "      <td>window, run, set, application, problem, server, display, call, work, program, font, mouse, client, keyboard, create, error, db_db, widget, resource, character</td>\n",
              "      <td>[question, distribution, article, write, clear, caution, warn, memory, verify, unexpected, error, wonder, expect, error, may, sorry, really, dumb, question, parity_error, memory, previously, know, condition, waivere, error, already, know, would, curious, real, meaning, expect, error, basically, know, bug, warn, system, software, thing, check, right, value, yet, set, launch, suchlike, rather, fix, code, possibly, introduce, new, bug, tell, crew, see, warn, ignore]</td>\n",
              "    </tr>\n",
              "    <tr>\n",
              "      <th>...</th>\n",
              "      <td>...</td>\n",
              "      <td>...</td>\n",
              "      <td>...</td>\n",
              "      <td>...</td>\n",
              "      <td>...</td>\n",
              "    </tr>\n",
              "    <tr>\n",
              "      <th>11309</th>\n",
              "      <td>sci.med</td>\n",
              "      <td>22</td>\n",
              "      <td>34.11</td>\n",
              "      <td>food, doctor, patient, effect, disease, eat, pain, treatment, medical, day, find, study, people, blood, week, article, body, lot, msg, test</td>\n",
              "      <td>[scan, city, reply, line, consultation, cheap, also, well, neurologist, make, differential, diagnosis, migraine, tension, headache, cluster, benign, intracranial, hypertension, chronic, syndrome, appear, normal, scan, neurologist, also, recommend, course, treatment, appropriate, diagnosis, also, many, people, convince, brain, tumor, dn, serious, pathology, may, cheap, come, week, dn, easy, take, time, reassure, patient, personally, think, ever, justify, sigh, may, never, justifiable, sometimes, even, try, show, thoroughness, detailed, history, neurologic, examination, discussion, diagnosis, salt, lot, reassurance, patient, still, ask, can, order, scan, absolutely, sure, often, get, conversation, ignore, aunt, millie, headache, year, die, brain, tumor, aneurysm, get, away, ever, order, imaging, patient, obviously, benign, ...]</td>\n",
              "    </tr>\n",
              "    <tr>\n",
              "      <th>11310</th>\n",
              "      <td>comp.sys.mac.hardware</td>\n",
              "      <td>19</td>\n",
              "      <td>21.28</td>\n",
              "      <td>drive, system, problem, work, disk, line, computer, tape, pin, apple, machine, boot, internal, add, cable, switch, instal, controller, type, set</td>\n",
              "      <td>[screen, medford, old, problem, screen, blank, sometimes, minor, physical, jolt, insert, floppy, internal, drive, sometimes, computer, leave, go, blank, replace, wire, connect, logic, board, board, seem, first, jiggle, wire, make, screen, come, back, worked, blanking, return, nee, new, new, new, computer, thank, advice]</td>\n",
              "    </tr>\n",
              "    <tr>\n",
              "      <th>11311</th>\n",
              "      <td>comp.sys.ibm.pc.hardware</td>\n",
              "      <td>11</td>\n",
              "      <td>12.18</td>\n",
              "      <td>card, driver, bit, speed, memory, scsi, fast, pc, run, chip, machine, mode, printer, port, bus, slow, performance, board, device, ram</td>\n",
              "      <td>[este, mount, mail, group, line, instal, try, mount, cool, chip, hour, weight, cool, enough, dislodge, end, bend, pin, cpu, luckily, power, yet, end, press, cpu, deeply, socket, put, cpu, cooler, back, far, good, other, problem, ensure, weight, fan, heatsink, eventually, work, cpu, socket, mount, motherboard, vertical, case, este, internet]</td>\n",
              "    </tr>\n",
              "    <tr>\n",
              "      <th>11312</th>\n",
              "      <td>comp.graphics</td>\n",
              "      <td>30</td>\n",
              "      <td>24.57</td>\n",
              "      <td>time, problem, point, line, find, give, idea, work, start, happen, long, back, turn, bad, stop, sound, write, lose, put, hard</td>\n",
              "      <td>[line, article, write, boy, embarasse, trivial, faq, give, point, find, center, point, know, circle, point, immediately, see, straightforward, way, check, geometry, book, farin, still, loss, mercy, provide, solution, would, require, space, point, specifie, sphere, far, see, prove, point, exist, space, distant, point, may, necessarily, happen, correct, be, wrong, quite, possibly, email, visit, computer, graphic, researcher]</td>\n",
              "    </tr>\n",
              "    <tr>\n",
              "      <th>11313</th>\n",
              "      <td>rec.motorcycles</td>\n",
              "      <td>24</td>\n",
              "      <td>10.52</td>\n",
              "      <td>bike, back, leave, ride, line, side, put, turn, head, dog, motorcycle, front, make, big, hand, pull, wear, fit, face, organization</td>\n",
              "      <td>[steal, organization, line, distribution_usa, host, summary, see, steal, plate, cbr, engine, number, turn, signal, mirror, light, tape, track, rider, spring, tomorrow, guess, help, find, baby, kjg]</td>\n",
              "    </tr>\n",
              "  </tbody>\n",
              "</table>\n",
              "<p>11314 rows × 5 columns</p>\n",
              "</div>"
            ],
            "text/plain": [
              "                          Title  ...                                                                                                                                                                                                                                                                                                                                                                                                                                                                                                                                                                                                                                                                                                                                                                                                                                                                   Text\n",
              "0      rec.autos                 ...  [where, thing, car, nntp_poste, host, park, line, wonder, could, enlighten, car, see, day, door, sport, car, look, late, early, call, bricklin, door, really, small, addition, separate, rest, body, know, tellme, model, name, engine, year, production, car, make, history, info, funky, look, car, mail, thank, bring, neighborhood, lerxst]                                                                                                                                                                                                                                                                                                                                                                                                                                                                                                                      \n",
              "1      comp.sys.mac.hardware     ...  [poll, final, call, summary, final, call, clock, report, keyword, acceleration, line, host, fair, number, brave, soul, upgrade, clock, oscillator, share, experience, poll, send, brief, message, detailing, experience, procedure, top, speed, attain, cpu, rate, speed, add, card, hour, usage, day, functionality, floppy, especially, request, summarize, next, day, add, network, knowledge, base, do, clock, upgrade, answer, poll, thank]                                                                                                                                                                                                                                                                                                                                                                                                                     \n",
              "2      comp.sys.mac.hardware     ...  [engineering, computer, network, distribution_usa, line, well, folk, finally, give, ghost, weekend, start, life, way, back, be, market, new, machine, bit, sooner, intend, be, look, pick, powerbook, maybe, bunch, question, hopefully, answer, know, dirt, powerbook, introduction, expect, would, hear, suppose, make, appearence, summer, hear, anymore, since, access, macleak, wonder, info, hear, rumor, price, drop, line, one, duos, go, recently, s, impression, display, could, probably, swing, get, disk, rather, really, feel, much, well, display, yea, look, great, store, really, good, could, solicit, opinion, people, day, worth, take, disk, size, money, hit, get, active, display, realize, real, subjective, question, have, play, machine, computer, ...]                                                                                   \n",
              "3      comp.graphics             ...  [division, line, host, write, write, article, know, chip, far, stuff, go, look, pretty, nice, get, quadrilateral, fill, command, require, point, weitek, address, phone, number, would, information, chip, division, thing, really, scare, person, sense, humor, winter]                                                                                                                                                                                                                                                                                                                                                                                                                                                                                                                                                                                             \n",
              "4      sci.space                 ...  [question, distribution, article, write, clear, caution, warn, memory, verify, unexpected, error, wonder, expect, error, may, sorry, really, dumb, question, parity_error, memory, previously, know, condition, waivere, error, already, know, would, curious, real, meaning, expect, error, basically, know, bug, warn, system, software, thing, check, right, value, yet, set, launch, suchlike, rather, fix, code, possibly, introduce, new, bug, tell, crew, see, warn, ignore]                                                                                                                                                                                                                                                                                                                                                                                  \n",
              "...          ...                 ...                                                                                                                                                                                                                                                                                                                                                                                                                                                                                  ...                                                                                                                                                                                                                                                                                                                                                                                  \n",
              "11309  sci.med                   ...  [scan, city, reply, line, consultation, cheap, also, well, neurologist, make, differential, diagnosis, migraine, tension, headache, cluster, benign, intracranial, hypertension, chronic, syndrome, appear, normal, scan, neurologist, also, recommend, course, treatment, appropriate, diagnosis, also, many, people, convince, brain, tumor, dn, serious, pathology, may, cheap, come, week, dn, easy, take, time, reassure, patient, personally, think, ever, justify, sigh, may, never, justifiable, sometimes, even, try, show, thoroughness, detailed, history, neurologic, examination, discussion, diagnosis, salt, lot, reassurance, patient, still, ask, can, order, scan, absolutely, sure, often, get, conversation, ignore, aunt, millie, headache, year, die, brain, tumor, aneurysm, get, away, ever, order, imaging, patient, obviously, benign, ...]\n",
              "11310  comp.sys.mac.hardware     ...  [screen, medford, old, problem, screen, blank, sometimes, minor, physical, jolt, insert, floppy, internal, drive, sometimes, computer, leave, go, blank, replace, wire, connect, logic, board, board, seem, first, jiggle, wire, make, screen, come, back, worked, blanking, return, nee, new, new, new, computer, thank, advice]                                                                                                                                                                                                                                                                                                                                                                                                                                                                                                                                    \n",
              "11311  comp.sys.ibm.pc.hardware  ...  [este, mount, mail, group, line, instal, try, mount, cool, chip, hour, weight, cool, enough, dislodge, end, bend, pin, cpu, luckily, power, yet, end, press, cpu, deeply, socket, put, cpu, cooler, back, far, good, other, problem, ensure, weight, fan, heatsink, eventually, work, cpu, socket, mount, motherboard, vertical, case, este, internet]                                                                                                                                                                                                                                                                                                                                                                                                                                                                                                               \n",
              "11312  comp.graphics             ...  [line, article, write, boy, embarasse, trivial, faq, give, point, find, center, point, know, circle, point, immediately, see, straightforward, way, check, geometry, book, farin, still, loss, mercy, provide, solution, would, require, space, point, specifie, sphere, far, see, prove, point, exist, space, distant, point, may, necessarily, happen, correct, be, wrong, quite, possibly, email, visit, computer, graphic, researcher]                                                                                                                                                                                                                                                                                                                                                                                                                           \n",
              "11313  rec.motorcycles           ...  [steal, organization, line, distribution_usa, host, summary, see, steal, plate, cbr, engine, number, turn, signal, mirror, light, tape, track, rider, spring, tomorrow, guess, help, find, baby, kjg]                                                                                                                                                                                                                                                                                                                                                                                                                                                                                                                                                                                                                                                                \n",
              "\n",
              "[11314 rows x 5 columns]"
            ]
          },
          "metadata": {
            "tags": []
          },
          "execution_count": 63
        }
      ]
    },
    {
      "cell_type": "code",
      "metadata": {
        "id": "PHTX1OF7y5Tn",
        "outputId": "96ca6f41-ebc3-497c-c4b8-b3eac6baceb6",
        "colab": {
          "base_uri": "https://localhost:8080/",
          "height": 34
        }
      },
      "source": [
        "main_topics = []\n",
        "for i in corpus_topic_df['Dominant_Topic']:\n",
        "    #print(i)\n",
        "    main_topics.append(i)\n",
        "len(main_topics)"
      ],
      "execution_count": 153,
      "outputs": [
        {
          "output_type": "execute_result",
          "data": {
            "text/plain": [
              "11314"
            ]
          },
          "metadata": {
            "tags": []
          },
          "execution_count": 153
        }
      ]
    },
    {
      "cell_type": "markdown",
      "metadata": {
        "id": "NDxRKxx2bmwo"
      },
      "source": [
        "посчитали в скольких текстах встречаются главные топики"
      ]
    },
    {
      "cell_type": "code",
      "metadata": {
        "id": "9xxcTP4TaT5R",
        "outputId": "52a18b6e-b674-4aaa-dc26-3412bc6bf5fa",
        "colab": {
          "base_uri": "https://localhost:8080/",
          "height": 994
        }
      },
      "source": [
        "dominant_topic_df = corpus_topic_df.groupby('Dominant Topic').agg(\n",
        "                                  Doc_Count = ('Dominant Topic', np.size),\n",
        "                                  Total_Docs_Perc = ('Dominant Topic', np.size)).reset_index()\n",
        "\n",
        "dominant_topic_df['Total_Docs_Perc'] = dominant_topic_df['Total_Docs_Perc'].apply(lambda row: round((row*100) / len(corpus), 2))\n",
        "\n",
        "dominant_topic_df"
      ],
      "execution_count": 56,
      "outputs": [
        {
          "output_type": "execute_result",
          "data": {
            "text/html": [
              "<div>\n",
              "<style scoped>\n",
              "    .dataframe tbody tr th:only-of-type {\n",
              "        vertical-align: middle;\n",
              "    }\n",
              "\n",
              "    .dataframe tbody tr th {\n",
              "        vertical-align: top;\n",
              "    }\n",
              "\n",
              "    .dataframe thead th {\n",
              "        text-align: right;\n",
              "    }\n",
              "</style>\n",
              "<table border=\"1\" class=\"dataframe\">\n",
              "  <thead>\n",
              "    <tr style=\"text-align: right;\">\n",
              "      <th></th>\n",
              "      <th>Dominant Topic</th>\n",
              "      <th>Doc_Count</th>\n",
              "      <th>Total_Docs_Perc</th>\n",
              "    </tr>\n",
              "  </thead>\n",
              "  <tbody>\n",
              "    <tr>\n",
              "      <th>0</th>\n",
              "      <td>1</td>\n",
              "      <td>371</td>\n",
              "      <td>3.28</td>\n",
              "    </tr>\n",
              "    <tr>\n",
              "      <th>1</th>\n",
              "      <td>2</td>\n",
              "      <td>185</td>\n",
              "      <td>1.64</td>\n",
              "    </tr>\n",
              "    <tr>\n",
              "      <th>2</th>\n",
              "      <td>3</td>\n",
              "      <td>46</td>\n",
              "      <td>0.41</td>\n",
              "    </tr>\n",
              "    <tr>\n",
              "      <th>3</th>\n",
              "      <td>4</td>\n",
              "      <td>255</td>\n",
              "      <td>2.25</td>\n",
              "    </tr>\n",
              "    <tr>\n",
              "      <th>4</th>\n",
              "      <td>5</td>\n",
              "      <td>432</td>\n",
              "      <td>3.82</td>\n",
              "    </tr>\n",
              "    <tr>\n",
              "      <th>5</th>\n",
              "      <td>6</td>\n",
              "      <td>236</td>\n",
              "      <td>2.09</td>\n",
              "    </tr>\n",
              "    <tr>\n",
              "      <th>6</th>\n",
              "      <td>7</td>\n",
              "      <td>146</td>\n",
              "      <td>1.29</td>\n",
              "    </tr>\n",
              "    <tr>\n",
              "      <th>7</th>\n",
              "      <td>8</td>\n",
              "      <td>216</td>\n",
              "      <td>1.91</td>\n",
              "    </tr>\n",
              "    <tr>\n",
              "      <th>8</th>\n",
              "      <td>9</td>\n",
              "      <td>559</td>\n",
              "      <td>4.94</td>\n",
              "    </tr>\n",
              "    <tr>\n",
              "      <th>9</th>\n",
              "      <td>10</td>\n",
              "      <td>147</td>\n",
              "      <td>1.30</td>\n",
              "    </tr>\n",
              "    <tr>\n",
              "      <th>10</th>\n",
              "      <td>11</td>\n",
              "      <td>681</td>\n",
              "      <td>6.02</td>\n",
              "    </tr>\n",
              "    <tr>\n",
              "      <th>11</th>\n",
              "      <td>12</td>\n",
              "      <td>440</td>\n",
              "      <td>3.89</td>\n",
              "    </tr>\n",
              "    <tr>\n",
              "      <th>12</th>\n",
              "      <td>13</td>\n",
              "      <td>986</td>\n",
              "      <td>8.71</td>\n",
              "    </tr>\n",
              "    <tr>\n",
              "      <th>13</th>\n",
              "      <td>14</td>\n",
              "      <td>169</td>\n",
              "      <td>1.49</td>\n",
              "    </tr>\n",
              "    <tr>\n",
              "      <th>14</th>\n",
              "      <td>15</td>\n",
              "      <td>217</td>\n",
              "      <td>1.92</td>\n",
              "    </tr>\n",
              "    <tr>\n",
              "      <th>15</th>\n",
              "      <td>16</td>\n",
              "      <td>373</td>\n",
              "      <td>3.30</td>\n",
              "    </tr>\n",
              "    <tr>\n",
              "      <th>16</th>\n",
              "      <td>17</td>\n",
              "      <td>387</td>\n",
              "      <td>3.42</td>\n",
              "    </tr>\n",
              "    <tr>\n",
              "      <th>17</th>\n",
              "      <td>18</td>\n",
              "      <td>348</td>\n",
              "      <td>3.08</td>\n",
              "    </tr>\n",
              "    <tr>\n",
              "      <th>18</th>\n",
              "      <td>19</td>\n",
              "      <td>428</td>\n",
              "      <td>3.78</td>\n",
              "    </tr>\n",
              "    <tr>\n",
              "      <th>19</th>\n",
              "      <td>20</td>\n",
              "      <td>656</td>\n",
              "      <td>5.80</td>\n",
              "    </tr>\n",
              "    <tr>\n",
              "      <th>20</th>\n",
              "      <td>21</td>\n",
              "      <td>531</td>\n",
              "      <td>4.69</td>\n",
              "    </tr>\n",
              "    <tr>\n",
              "      <th>21</th>\n",
              "      <td>22</td>\n",
              "      <td>438</td>\n",
              "      <td>3.87</td>\n",
              "    </tr>\n",
              "    <tr>\n",
              "      <th>22</th>\n",
              "      <td>23</td>\n",
              "      <td>526</td>\n",
              "      <td>4.65</td>\n",
              "    </tr>\n",
              "    <tr>\n",
              "      <th>23</th>\n",
              "      <td>24</td>\n",
              "      <td>464</td>\n",
              "      <td>4.10</td>\n",
              "    </tr>\n",
              "    <tr>\n",
              "      <th>24</th>\n",
              "      <td>25</td>\n",
              "      <td>266</td>\n",
              "      <td>2.35</td>\n",
              "    </tr>\n",
              "    <tr>\n",
              "      <th>25</th>\n",
              "      <td>26</td>\n",
              "      <td>185</td>\n",
              "      <td>1.64</td>\n",
              "    </tr>\n",
              "    <tr>\n",
              "      <th>26</th>\n",
              "      <td>27</td>\n",
              "      <td>143</td>\n",
              "      <td>1.26</td>\n",
              "    </tr>\n",
              "    <tr>\n",
              "      <th>27</th>\n",
              "      <td>28</td>\n",
              "      <td>375</td>\n",
              "      <td>3.31</td>\n",
              "    </tr>\n",
              "    <tr>\n",
              "      <th>28</th>\n",
              "      <td>29</td>\n",
              "      <td>325</td>\n",
              "      <td>2.87</td>\n",
              "    </tr>\n",
              "    <tr>\n",
              "      <th>29</th>\n",
              "      <td>30</td>\n",
              "      <td>140</td>\n",
              "      <td>1.24</td>\n",
              "    </tr>\n",
              "    <tr>\n",
              "      <th>30</th>\n",
              "      <td>31</td>\n",
              "      <td>191</td>\n",
              "      <td>1.69</td>\n",
              "    </tr>\n",
              "    <tr>\n",
              "      <th>31</th>\n",
              "      <td>32</td>\n",
              "      <td>452</td>\n",
              "      <td>4.00</td>\n",
              "    </tr>\n",
              "  </tbody>\n",
              "</table>\n",
              "</div>"
            ],
            "text/plain": [
              "    Dominant Topic  Doc_Count  Total_Docs_Perc\n",
              "0   1               371        3.28           \n",
              "1   2               185        1.64           \n",
              "2   3               46         0.41           \n",
              "3   4               255        2.25           \n",
              "4   5               432        3.82           \n",
              "5   6               236        2.09           \n",
              "6   7               146        1.29           \n",
              "7   8               216        1.91           \n",
              "8   9               559        4.94           \n",
              "9   10              147        1.30           \n",
              "10  11              681        6.02           \n",
              "11  12              440        3.89           \n",
              "12  13              986        8.71           \n",
              "13  14              169        1.49           \n",
              "14  15              217        1.92           \n",
              "15  16              373        3.30           \n",
              "16  17              387        3.42           \n",
              "17  18              348        3.08           \n",
              "18  19              428        3.78           \n",
              "19  20              656        5.80           \n",
              "20  21              531        4.69           \n",
              "21  22              438        3.87           \n",
              "22  23              526        4.65           \n",
              "23  24              464        4.10           \n",
              "24  25              266        2.35           \n",
              "25  26              185        1.64           \n",
              "26  27              143        1.26           \n",
              "27  28              375        3.31           \n",
              "28  29              325        2.87           \n",
              "29  30              140        1.24           \n",
              "30  31              191        1.69           \n",
              "31  32              452        4.00           "
            ]
          },
          "metadata": {
            "tags": []
          },
          "execution_count": 56
        }
      ]
    },
    {
      "cell_type": "markdown",
      "metadata": {
        "id": "GwpyfpUVcC-c"
      },
      "source": [
        "считаем тф_идф, выделяем пять слов с самой большой тфидф в каждом тексте, записываем в таблицу"
      ]
    },
    {
      "cell_type": "code",
      "metadata": {
        "id": "Lf-V8mfdwGRc"
      },
      "source": [
        "from sklearn.feature_extraction.text import TfidfVectorizer\n",
        "import pandas as pd\n",
        "tf_idf = TfidfVectorizer(use_idf=True)"
      ],
      "execution_count": 177,
      "outputs": []
    },
    {
      "cell_type": "code",
      "metadata": {
        "id": "cLWLM4yB3I5E"
      },
      "source": [
        "df_new = pd.DataFrame(columns=['topic', 'keywords', 'text'])\n",
        "for t in ldamallet.show_topics(formatted=False):\n",
        "  topic = t[0]\n",
        "  corpuss = []\n",
        "  texts_nums = []\n",
        "  for num, i in enumerate(texts):\n",
        "    if main_topics[num] == topic:\n",
        "      corpuss.append(' '.join(i))\n",
        "      texts_nums.append(num)\n",
        "  vector = tf_idf.fit_transform(corpuss)\n",
        "  for i, num in enumerate(texts_nums):\n",
        "    text_vector = vector[i]\n",
        "    df_v = pd.DataFrame(text_vector.T.todense(), index=tf_idf.get_feature_names(), columns=[\"tfidf\"]) \n",
        "    keywords = list(df_v.sort_values(by=[\"tfidf\"],ascending=False).index[:5])\n",
        "    df_new = df_new.append({'text':data[num], 'topic':topic, 'keywords': ', '.join(keywords)}, ignore_index=True)"
      ],
      "execution_count": 179,
      "outputs": []
    },
    {
      "cell_type": "code",
      "metadata": {
        "id": "aWpPUAbWwGJ2",
        "outputId": "640fb9fe-9bb1-4151-9c53-d9a810464374",
        "colab": {
          "base_uri": "https://localhost:8080/",
          "height": 649
        }
      },
      "source": [
        "df_new.head()"
      ],
      "execution_count": 180,
      "outputs": [
        {
          "output_type": "execute_result",
          "data": {
            "text/html": [
              "<div>\n",
              "<style scoped>\n",
              "    .dataframe tbody tr th:only-of-type {\n",
              "        vertical-align: middle;\n",
              "    }\n",
              "\n",
              "    .dataframe tbody tr th {\n",
              "        vertical-align: top;\n",
              "    }\n",
              "\n",
              "    .dataframe thead th {\n",
              "        text-align: right;\n",
              "    }\n",
              "</style>\n",
              "<table border=\"1\" class=\"dataframe\">\n",
              "  <thead>\n",
              "    <tr style=\"text-align: right;\">\n",
              "      <th></th>\n",
              "      <th>topic</th>\n",
              "      <th>keywords</th>\n",
              "      <th>text</th>\n",
              "    </tr>\n",
              "  </thead>\n",
              "  <tbody>\n",
              "    <tr>\n",
              "      <th>0</th>\n",
              "      <td>22</td>\n",
              "      <td>dalacin, clearasil, son, usual, treatment</td>\n",
              "      <td>Subject: Teenage acne From: (Pat Churchill) Organization: Actrix Networks Lines: 26 My 14-y-o son has the usual teenage spotty chin and greasy nose. I bought him Clearasil face wash and ointment. I think that is probably enough, along with the usual good diet. However, he is on at me to get some product called Dalacin T, which used to be a doctors-prescription only treatment but is not available over the chemists counter. I have asked a couple of pharmacists who say either his acne is not severe enough for Dalacin T, or that Clearasil is OK. I had the odd spots as a teenager, nothing serious. His father was the same, so I dont figure his acne is going to escalate into something disfiguring. But I know kids are senstitive about their appearance. I am wary because a neighbours son had this wierd malady that was eventually put down to an overdose of vitamin A from acne treatment. I want to help - but with appropriate treatment. My son also has some scaliness around the hairline on his scalp. Sort of teenage cradle cap. Any pointers/advice on this? We have tried a couple of anti dandruff shampoos and some of these are inclined to make the condition worse, not better. Shall I bury the kid till hes 21 :) -- ^^^^^^^^^^^^^^^^^^^^^^^^^^^^^^^^^^^^^^^^^^^^^^^^^^^^^^^^^^^^^^^^^^^^^^^^^^^ The floggings will continue until morale improves Pat Churchill, Wellington New Zealand</td>\n",
              "    </tr>\n",
              "    <tr>\n",
              "      <th>1</th>\n",
              "      <td>22</td>\n",
              "      <td>buy, health, disease, adequately, money</td>\n",
              "      <td>From: (Ken Mitchum) Subject: Re: Patient-Physician Diplomacy Article-I.D.: pitt.19422 Reply-To: (Ken Mitchum) Organization: Univ. of Pittsburgh Computer Science Lines: 22 In article (Herman Rubin) writes: &gt;In article (Ken Mitchum) writes: &gt; &gt;&gt;Ditto. Disease is a great leveling experience, however. Some people &gt;&gt;are very much afronted to find out that all the money in the world &gt;&gt;does not buy one health. Everyone looks the same when they die. &gt; &gt;If money does not buy one health, why are we talking about paying &gt;for medical expenses for those not currently \"adequately covered\"? Herman, I would think you of all people would/could distinguish between \"health\" and \"treatment of disease.\" All the prevention medicine people preach this all the time. You cannot buy health. You can buy treatment of disease, assuming you are lucky enough to have a disease which can be treated. A rich person with a terminal disease is a bit out of luck. There is no such thing as \"adequately covered\" and there never will be. And for what its worth, Ill be the first to admit that all my patients die. -km</td>\n",
              "    </tr>\n",
              "    <tr>\n",
              "      <th>2</th>\n",
              "      <td>22</td>\n",
              "      <td>antihistamine, link, hismanal, vancenase, sue</td>\n",
              "      <td>From: Subject: Re: Hismanal, et. al.--side effects Organization: Wright State University Lines: 22 In article (Steve Dyer) writes: &gt; In article writes: &gt;&gt;Can someone tell me whether or not any of the following medications &gt;&gt;has been linked to rapid/excessive weight gain and/or a distorted &gt;&gt;sense of taste or smell: Hismanal; Azmacort (a topical steroid to &gt;&gt;prevent asthma); Vancenase. &gt; &gt; Hismanal (astemizole) is most definitely linked to weight gain. &gt; It really is peculiar that some antihistamines have this effect, &gt; and even more so an antihistamine like astemizole which purportedly &gt; doesnt cross the blood-brain barrier and so tends not to cause &gt; drowsiness. It also gave me lots of problems with joint and muscle pain. Seemed to trigger arthritis-like problems. Sue &gt; &gt; -- &gt; Steve Dyer &gt; aka {ima,harvard,rayssd,linus,m2c}!spdcc!dyer</td>\n",
              "    </tr>\n",
              "    <tr>\n",
              "      <th>3</th>\n",
              "      <td>22</td>\n",
              "      <td>weather, warm, cold, hail, randomly</td>\n",
              "      <td>From: (Douglas Fitts) Subject: Re: RA treatment question Organization: University of Washington Lines: 24 NNTP-Posting-Host: carson.u.washington.edu (Julia Eulenberg) writes: &gt;Im assuming that you mean Rheumatoid Arthritis (RA). Ive never heard &gt;of the \"cold treatment\" you mentioned. I cant imagine how it would &gt;work, since most of us who have Rh.Arthr./RA seem to have more problems &gt;in cold weather than in warm weather. Would be interested to hear more! &gt;Z &gt;Z No, obviously talking about Research Assistants. I favor a high protein, low fat diet, barely adequate salary on a fixed time schedule, four hours of sleep a night, continuous infusion of latte, unpredictable praise mixed randomly with anxiety-provoking, everpresent glances with lowered eyebrows, unrealistic promises of rapid publication, and every three months a dinner consisting of nothing but microbrewery ale and free pretzels. Actually, mine hails from San Diego, and indeed has more problems in Seattle in cold weather than in warm. Doug Fitts</td>\n",
              "    </tr>\n",
              "    <tr>\n",
              "      <th>4</th>\n",
              "      <td>22</td>\n",
              "      <td>supplement, chelate, avoid, hypoglycemia, food</td>\n",
              "      <td>From: (ron roth) Subject: HYPOGLYCEMIA X-Gated-By: Usenet &lt;==&gt; RoseMail Gateway (v1.70) Organization: Rose Media Inc, Toronto, Ontario. Lines: 31 (Anthony Anello) writes: A(&gt; Can anyone tell me if a bloodcount of 40 when diagnosed as hypoglycemic is A(&gt; dangerous, i.e. indicates a possible pancreatic problem? One Dr. says no, the A(&gt; other (not his specialty) says the first is negligent and that another blood A(&gt; test should be done. Also, what is a good diet (what has worked) for a hypo- A(&gt; glycemic? TIA. A(&gt; A(&gt; A(&gt; Anthony Anello A(&gt; Fermilab A(&gt; Batavia, Illinois Once you have your hypoglycemia CONFIRMED through the proper channels, you might consider ther following: 1) Chelated Manganese 25-50mg/day. 2) Chelated Chromium 400-600mcg/day. 3) Increase protein through foods or supplements. 4) Avoid supplements/foods high in Potassium, Calcium, Zinc. 5) Avoid Vit C supplements in excess of 100mg. 6) Avoid honey and foods high in simple sugars. 7) Enjoy breads, cereals, grains... Discuss the above with your health practitioner for compatibility with your body chemistry and safety. --Ron-- --- RoseReader 2.00 P003228: BEER - Its not just for breakfast anymore. RoseMail 2.10 : Usenet: Rose Media - Hamilton (416) 575-5363</td>\n",
              "    </tr>\n",
              "  </tbody>\n",
              "</table>\n",
              "</div>"
            ],
            "text/plain": [
              "  topic  ...                                                                                                                                                                                                                                                                                                                                                                                                                                                                                                                                                                                                                                                                                                                                                                                                                                                                                                                                                                                                                                                                                                                                                                                                                                                                                                                                                                                                                                       text\n",
              "0  22    ...  Subject: Teenage acne From: (Pat Churchill) Organization: Actrix Networks Lines: 26 My 14-y-o son has the usual teenage spotty chin and greasy nose. I bought him Clearasil face wash and ointment. I think that is probably enough, along with the usual good diet. However, he is on at me to get some product called Dalacin T, which used to be a doctors-prescription only treatment but is not available over the chemists counter. I have asked a couple of pharmacists who say either his acne is not severe enough for Dalacin T, or that Clearasil is OK. I had the odd spots as a teenager, nothing serious. His father was the same, so I dont figure his acne is going to escalate into something disfiguring. But I know kids are senstitive about their appearance. I am wary because a neighbours son had this wierd malady that was eventually put down to an overdose of vitamin A from acne treatment. I want to help - but with appropriate treatment. My son also has some scaliness around the hairline on his scalp. Sort of teenage cradle cap. Any pointers/advice on this? We have tried a couple of anti dandruff shampoos and some of these are inclined to make the condition worse, not better. Shall I bury the kid till hes 21 :) -- ^^^^^^^^^^^^^^^^^^^^^^^^^^^^^^^^^^^^^^^^^^^^^^^^^^^^^^^^^^^^^^^^^^^^^^^^^^^ The floggings will continue until morale improves Pat Churchill, Wellington New Zealand \n",
              "1  22    ...  From: (Ken Mitchum) Subject: Re: Patient-Physician Diplomacy Article-I.D.: pitt.19422 Reply-To: (Ken Mitchum) Organization: Univ. of Pittsburgh Computer Science Lines: 22 In article (Herman Rubin) writes: >In article (Ken Mitchum) writes: > >>Ditto. Disease is a great leveling experience, however. Some people >>are very much afronted to find out that all the money in the world >>does not buy one health. Everyone looks the same when they die. > >If money does not buy one health, why are we talking about paying >for medical expenses for those not currently \"adequately covered\"? Herman, I would think you of all people would/could distinguish between \"health\" and \"treatment of disease.\" All the prevention medicine people preach this all the time. You cannot buy health. You can buy treatment of disease, assuming you are lucky enough to have a disease which can be treated. A rich person with a terminal disease is a bit out of luck. There is no such thing as \"adequately covered\" and there never will be. And for what its worth, Ill be the first to admit that all my patients die. -km                                                                                                                                                                                                                                                                                                      \n",
              "2  22    ...  From: Subject: Re: Hismanal, et. al.--side effects Organization: Wright State University Lines: 22 In article (Steve Dyer) writes: > In article writes: >>Can someone tell me whether or not any of the following medications >>has been linked to rapid/excessive weight gain and/or a distorted >>sense of taste or smell: Hismanal; Azmacort (a topical steroid to >>prevent asthma); Vancenase. > > Hismanal (astemizole) is most definitely linked to weight gain. > It really is peculiar that some antihistamines have this effect, > and even more so an antihistamine like astemizole which purportedly > doesnt cross the blood-brain barrier and so tends not to cause > drowsiness. It also gave me lots of problems with joint and muscle pain. Seemed to trigger arthritis-like problems. Sue > > -- > Steve Dyer > aka {ima,harvard,rayssd,linus,m2c}!spdcc!dyer                                                                                                                                                                                                                                                                                                                                                                                                                                                                                                                                                          \n",
              "3  22    ...  From: (Douglas Fitts) Subject: Re: RA treatment question Organization: University of Washington Lines: 24 NNTP-Posting-Host: carson.u.washington.edu (Julia Eulenberg) writes: >Im assuming that you mean Rheumatoid Arthritis (RA). Ive never heard >of the \"cold treatment\" you mentioned. I cant imagine how it would >work, since most of us who have Rh.Arthr./RA seem to have more problems >in cold weather than in warm weather. Would be interested to hear more! >Z >Z No, obviously talking about Research Assistants. I favor a high protein, low fat diet, barely adequate salary on a fixed time schedule, four hours of sleep a night, continuous infusion of latte, unpredictable praise mixed randomly with anxiety-provoking, everpresent glances with lowered eyebrows, unrealistic promises of rapid publication, and every three months a dinner consisting of nothing but microbrewery ale and free pretzels. Actually, mine hails from San Diego, and indeed has more problems in Seattle in cold weather than in warm. Doug Fitts                                                                                                                                                                                                                                                                                                                                                                                \n",
              "4  22    ...  From: (ron roth) Subject: HYPOGLYCEMIA X-Gated-By: Usenet <==> RoseMail Gateway (v1.70) Organization: Rose Media Inc, Toronto, Ontario. Lines: 31 (Anthony Anello) writes: A(> Can anyone tell me if a bloodcount of 40 when diagnosed as hypoglycemic is A(> dangerous, i.e. indicates a possible pancreatic problem? One Dr. says no, the A(> other (not his specialty) says the first is negligent and that another blood A(> test should be done. Also, what is a good diet (what has worked) for a hypo- A(> glycemic? TIA. A(> A(> A(> Anthony Anello A(> Fermilab A(> Batavia, Illinois Once you have your hypoglycemia CONFIRMED through the proper channels, you might consider ther following: 1) Chelated Manganese 25-50mg/day. 2) Chelated Chromium 400-600mcg/day. 3) Increase protein through foods or supplements. 4) Avoid supplements/foods high in Potassium, Calcium, Zinc. 5) Avoid Vit C supplements in excess of 100mg. 6) Avoid honey and foods high in simple sugars. 7) Enjoy breads, cereals, grains... Discuss the above with your health practitioner for compatibility with your body chemistry and safety. --Ron-- --- RoseReader 2.00 P003228: BEER - Its not just for breakfast anymore. RoseMail 2.10 : Usenet: Rose Media - Hamilton (416) 575-5363                                                                                                                                                   \n",
              "\n",
              "[5 rows x 3 columns]"
            ]
          },
          "metadata": {
            "tags": []
          },
          "execution_count": 180
        }
      ]
    },
    {
      "cell_type": "markdown",
      "metadata": {
        "id": "nXIGkA4iGN31"
      },
      "source": [
        "**coherence score**"
      ]
    },
    {
      "cell_type": "markdown",
      "metadata": {
        "id": "CmSoqT0YhZip"
      },
      "source": [
        "Благодаря метрикам coherence мы можем разделить условно все топики на плохие и хорошие. Как это происходит:\n",
        "\n",
        "\n",
        "1.   набор слов t сегментируется на набор пар подмножеств слов S\n",
        "2.   вероятности слов P вычисляются на основе заданного эталонного корпуса\n",
        "3.   набор подмножеств слов S и полученные вероятности используются в дальнейшем для получения когерентности C (то есть связи между ними)\n",
        "\n",
        "У этого метода есть две метрики: внутренняя и внешняя. Они отличаются тем, что внутренняя метрика сравнивает последовательно попарно слова, а внешняя - попарно со всеми словами в тексте. \n",
        "\n",
        "По сути этот показатель измеряет топик посредством вычисления степени семантической близости слов с большим весом (то есть большой вероятностью). \n",
        "\n"
      ]
    }
  ]
}