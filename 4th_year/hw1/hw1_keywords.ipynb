{
  "nbformat": 4,
  "nbformat_minor": 0,
  "metadata": {
    "colab": {
      "name": "hw1_keywords.ipynb",
      "provenance": [],
      "collapsed_sections": []
    },
    "kernelspec": {
      "name": "python3",
      "display_name": "Python 3"
    },
    "language_info": {
      "name": "python"
    }
  },
  "cells": [
    {
      "cell_type": "code",
      "metadata": {
        "colab": {
          "base_uri": "https://localhost:8080/"
        },
        "id": "-Eb-TbDz5th-",
        "outputId": "9a93f19d-91e7-42b4-d6df-b0e1c7d84408"
      },
      "source": [
        "import re\n",
        "import RAKE\n",
        "from summa import keywords\n",
        "import nltk\n",
        "import pandas as pd\n",
        "import numpy as np\n",
        "import matplotlib.pyplot as plt\n",
        "from pymorphy2 import MorphAnalyzer\n",
        "from pymorphy2.tokenizers import simple_word_tokenize\n",
        "from sklearn.feature_extraction.text import TfidfVectorizer\n",
        "from yargy import Parser, rule, and_, or_\n",
        "from yargy.predicates import gram, is_capitalized, dictionary\n",
        "from yargy import Parser\n",
        "from yargy.predicates import gram\n",
        "from yargy.pipelines import morph_pipeline\n",
        "from yargy.interpretation import fact\n",
        "from IPython.display import display\n",
        "nltk.download('stopwords')\n",
        "from nltk.corpus import stopwords\n",
        "stop = stopwords.words('russian')"
      ],
      "execution_count": 174,
      "outputs": [
        {
          "output_type": "stream",
          "name": "stdout",
          "text": [
            "[nltk_data] Downloading package stopwords to /root/nltk_data...\n",
            "[nltk_data]   Package stopwords is already up-to-date!\n"
          ]
        }
      ]
    },
    {
      "cell_type": "code",
      "metadata": {
        "id": "_RW8jqvbBEhP"
      },
      "source": [
        "# !pip install python-rake\n",
        "# !pip install summa\n",
        "# !pip install pymorphy2\n",
        "# !pip install yargy"
      ],
      "execution_count": 131,
      "outputs": []
    },
    {
      "cell_type": "markdown",
      "metadata": {
        "id": "CiXKhl8qMkPm"
      },
      "source": [
        "5 небольших текстов было взято с новостного портала https://www.dw.com, где ключевые слова представлены в конце статьи в виде \"Ключевые слова: ключевое слово1, ключевое слово2, ...\". На этом сайте ключевых слов представлено достаточно много (примерно от 5 и больше слов), что представляется удобным и информативным."
      ]
    },
    {
      "cell_type": "markdown",
      "metadata": {
        "id": "HnNx2EZ0hsy7"
      },
      "source": [
        "Ниже представлена табличка с текстами, ключевыми словами с сайта (keywords), ключевыми словами, добавленными мной (my_keywords), эталонными ключевыми словами, которые составляют **объединение** моих и изначальных ключевых слов (standart). В целом, на сайте ключевые слова достаточно хорошо размечены, поэтому я добавила совсем немного своих (в основном названия стран, лица, прил+сущ)."
      ]
    },
    {
      "cell_type": "code",
      "metadata": {
        "colab": {
          "base_uri": "https://localhost:8080/",
          "height": 289
        },
        "id": "rKtRGhxPPPI5",
        "outputId": "b81b5464-633c-47db-ae51-43964659c7ea"
      },
      "source": [
        "df = pd.read_csv('corpus.csv', sep=';', encoding='utf-8')\n",
        "df"
      ],
      "execution_count": 132,
      "outputs": [
        {
          "output_type": "execute_result",
          "data": {
            "text/html": [
              "<div>\n",
              "<style scoped>\n",
              "    .dataframe tbody tr th:only-of-type {\n",
              "        vertical-align: middle;\n",
              "    }\n",
              "\n",
              "    .dataframe tbody tr th {\n",
              "        vertical-align: top;\n",
              "    }\n",
              "\n",
              "    .dataframe thead th {\n",
              "        text-align: right;\n",
              "    }\n",
              "</style>\n",
              "<table border=\"1\" class=\"dataframe\">\n",
              "  <thead>\n",
              "    <tr style=\"text-align: right;\">\n",
              "      <th></th>\n",
              "      <th>text</th>\n",
              "      <th>keywords</th>\n",
              "      <th>my_keywords</th>\n",
              "      <th>standart</th>\n",
              "    </tr>\n",
              "  </thead>\n",
              "  <tbody>\n",
              "    <tr>\n",
              "      <th>0</th>\n",
              "      <td>Хористы из трех стран споют в Москве \"Братское...</td>\n",
              "      <td>Александр Кастальский, Братское поминовение, М...</td>\n",
              "      <td>хоровые коллективы, Александр Кастальский, Пер...</td>\n",
              "      <td>Александр Кастальский, Братское поминовение, М...</td>\n",
              "    </tr>\n",
              "    <tr>\n",
              "      <th>1</th>\n",
              "      <td>Праздники в Германии проходят под знаком \"Щелк...</td>\n",
              "      <td>Щелкунчик, театральная афиша, Германия, Чайков...</td>\n",
              "      <td>праздники, опера, Германия, популярная классик...</td>\n",
              "      <td>Щелкунчик, театральная афиша, Германия, Чайков...</td>\n",
              "    </tr>\n",
              "    <tr>\n",
              "      <th>2</th>\n",
              "      <td>Во Франкфурте показывают искусство гламурной ф...</td>\n",
              "      <td>глянцевая фотография, папарацци, выставка, Фра...</td>\n",
              "      <td>папарацци, выставка, Schirn, глянцевая фотогра...</td>\n",
              "      <td>глянцевая фотография, папарацци, выставка, Фра...</td>\n",
              "    </tr>\n",
              "    <tr>\n",
              "      <th>3</th>\n",
              "      <td>В Германии построили Третьяковку (фото)\\nКирпи...</td>\n",
              "      <td>Третьяковская галерея, выставка в Третьяковке,...</td>\n",
              "      <td>Германия, Новая Третьяковка, кирпичики LEGO, е...</td>\n",
              "      <td>Третьяковская галерея, выставка в Третьяковке,...</td>\n",
              "    </tr>\n",
              "    <tr>\n",
              "      <th>4</th>\n",
              "      <td>Центр авангарда поможет россиянам стать толера...</td>\n",
              "      <td>Еврейский музей и центр толерантности, авангар...</td>\n",
              "      <td>Еврейский музей , центр толерантности, новая п...</td>\n",
              "      <td>авангард, искусство, толерантность, минкульт, ...</td>\n",
              "    </tr>\n",
              "  </tbody>\n",
              "</table>\n",
              "</div>"
            ],
            "text/plain": [
              "                                                text  ...                                           standart\n",
              "0  Хористы из трех стран споют в Москве \"Братское...  ...  Александр Кастальский, Братское поминовение, М...\n",
              "1  Праздники в Германии проходят под знаком \"Щелк...  ...  Щелкунчик, театральная афиша, Германия, Чайков...\n",
              "2  Во Франкфурте показывают искусство гламурной ф...  ...  глянцевая фотография, папарацци, выставка, Фра...\n",
              "3  В Германии построили Третьяковку (фото)\\nКирпи...  ...  Третьяковская галерея, выставка в Третьяковке,...\n",
              "4  Центр авангарда поможет россиянам стать толера...  ...  авангард, искусство, толерантность, минкульт, ...\n",
              "\n",
              "[5 rows x 4 columns]"
            ]
          },
          "metadata": {},
          "execution_count": 132
        }
      ]
    },
    {
      "cell_type": "markdown",
      "metadata": {
        "id": "kGJPSfjTiASt"
      },
      "source": [
        "Функции для обработки текстов и для выведения метрик по каждому методу."
      ]
    },
    {
      "cell_type": "code",
      "metadata": {
        "id": "dT_Jxj17hmBM"
      },
      "source": [
        "m = MorphAnalyzer()\n",
        "def normalize_text(text):\n",
        "    lemmas = []\n",
        "    for t in simple_word_tokenize(text):\n",
        "        lemmas.append(\n",
        "            m.parse(t)[0].normal_form\n",
        "        )\n",
        "    string = ' '.join(lemmas)\n",
        "    return string"
      ],
      "execution_count": 133,
      "outputs": []
    },
    {
      "cell_type": "code",
      "metadata": {
        "id": "9u9UkvVmeEWd"
      },
      "source": [
        "def get_scores(predicted_keywords, method):\n",
        "  sum_accuracy = 0\n",
        "  sum_fullness = 0\n",
        "  for num in range(0, 5):\n",
        "    predicted = predicted_keywords[num]\n",
        "    raw_kw = normalize_text(df['standart'][num]).split(',')\n",
        "    standart = []\n",
        "    for item in raw_kw:\n",
        "      item = item.strip()\n",
        "      standart.append(item)\n",
        "    both = list(set(predicted) & set(standart))\n",
        "    accuracy = len(both) / len(predicted)\n",
        "    fullness = len(both) / len(standart)\n",
        "    sum_accuracy += accuracy\n",
        "    sum_fullness += fullness\n",
        "  average_accuracy = sum_accuracy / 5\n",
        "  average_fullness = sum_fullness / 5\n",
        "  f_score = 2 * average_accuracy * average_fullness / (average_accuracy + average_fullness)\n",
        "  return 'точность ' + str(method) + ':', round(average_accuracy, 3), \\\n",
        "  'полнота ' + str(method) + ':', round(average_fullness, 3), \\\n",
        "  'f-мера ' + str(method) + ':', round(f_score, 3)"
      ],
      "execution_count": 166,
      "outputs": []
    },
    {
      "cell_type": "markdown",
      "metadata": {
        "id": "paIt72y5B_wG"
      },
      "source": [
        "Общее количество токенов (с пунктуацией) составило 8263 ед."
      ]
    },
    {
      "cell_type": "code",
      "metadata": {
        "colab": {
          "base_uri": "https://localhost:8080/"
        },
        "id": "NtqFfbP9sVz2",
        "outputId": "b608507a-cf26-4bea-9013-fda4c114734b"
      },
      "source": [
        "average_len = 0\n",
        "for text in range(0, len(df)):\n",
        "  average_len += len(normalize_text(df['text'][text]))\n",
        "print(average_len)"
      ],
      "execution_count": 135,
      "outputs": [
        {
          "output_type": "stream",
          "name": "stdout",
          "text": [
            "8263\n"
          ]
        }
      ]
    },
    {
      "cell_type": "markdown",
      "metadata": {
        "id": "QlX60h_xvOoK"
      },
      "source": [
        "#### RAKE"
      ]
    },
    {
      "cell_type": "code",
      "metadata": {
        "id": "xm4oDjCDgfrj"
      },
      "source": [
        "rake = RAKE.Rake(stop)"
      ],
      "execution_count": 136,
      "outputs": []
    },
    {
      "cell_type": "code",
      "metadata": {
        "id": "ZT_xIEOOxY39"
      },
      "source": [
        "kw_rake = []"
      ],
      "execution_count": 137,
      "outputs": []
    },
    {
      "cell_type": "code",
      "metadata": {
        "id": "ewspC_o-xJd7"
      },
      "source": [
        "for num in range(0, 5):\n",
        "  kw_list_rake = rake.run(normalize_text(df['text'][num]), maxWords=3, minFrequency=2)\n",
        "  kw_list_rake = [item[0] for item in kw_list_rake]\n",
        "  kw_rake.append(kw_list_rake)"
      ],
      "execution_count": 138,
      "outputs": []
    },
    {
      "cell_type": "code",
      "metadata": {
        "colab": {
          "base_uri": "https://localhost:8080/"
        },
        "id": "C6pE4tNyynRw",
        "outputId": "e923155a-ca73-46e6-d93f-01321deb640b"
      },
      "source": [
        "for text in range(0, len(kw_rake)):\n",
        "  print('keywords for text №' + str(text+1), kw_rake[text])"
      ],
      "execution_count": 139,
      "outputs": [
        {
          "output_type": "stream",
          "name": "stdout",
          "text": [
            "keywords for text №1 ['хоровой коллектив', 'братский поминовение', 'москва', 'германия', 'россия', 'память']\n",
            "keywords for text №2 ['щелкунчик']\n",
            "keywords for text №3 ['папарацци', 'фотограф', 'звезда', 'снимок']\n",
            "keywords for text №4 ['из-', 'москва', 'берлин', 'париж']\n",
            "keywords for text №5 ['энциклопедия русский авангард', 'центр авангард', 'центр толерантность', 'еврейский музей', 'нечто враждебный', 'авангард', 'который']\n"
          ]
        }
      ]
    },
    {
      "cell_type": "code",
      "metadata": {
        "colab": {
          "base_uri": "https://localhost:8080/"
        },
        "id": "-7DnZaxTbwFO",
        "outputId": "446d6aa0-343f-4afe-daf8-7216cd8444f6"
      },
      "source": [
        "get_scores(kw_rake, 'RAKE')"
      ],
      "execution_count": 167,
      "outputs": [
        {
          "output_type": "execute_result",
          "data": {
            "text/plain": [
              "('точность RAKE:', 0.648, 'полнота RAKE:', 0.256, 'f-мера RAKE:', 0.367)"
            ]
          },
          "metadata": {},
          "execution_count": 167
        }
      ]
    },
    {
      "cell_type": "markdown",
      "metadata": {
        "id": "aAx91kA5u2AX"
      },
      "source": [
        "#### TextRank"
      ]
    },
    {
      "cell_type": "code",
      "metadata": {
        "id": "hh9yxu8Mz3xL"
      },
      "source": [
        "kw_textrank = []"
      ],
      "execution_count": 141,
      "outputs": []
    },
    {
      "cell_type": "code",
      "metadata": {
        "id": "yktn74GFzeVq"
      },
      "source": [
        "for num in range(0, 5):\n",
        "  kw_list_tr = keywords.keywords(normalize_text(df['text'][num]), language='russian', additional_stopwords=stop, scores=True)\n",
        "  kw_list_tr = [item[0] for item in kw_list_tr]\n",
        "  kw_textrank.append(kw_list_tr)"
      ],
      "execution_count": 142,
      "outputs": []
    },
    {
      "cell_type": "code",
      "metadata": {
        "colab": {
          "base_uri": "https://localhost:8080/"
        },
        "id": "F9CWq4GR0GU7",
        "outputId": "8a0e8598-5bd6-45d6-cedd-86ee6d10f2a4"
      },
      "source": [
        "for text in range(0, len(kw_textrank)):\n",
        "  print('keywords for text №' + str(text+1), kw_textrank[text])"
      ],
      "execution_count": 143,
      "outputs": [
        {
          "output_type": "stream",
          "name": "stdout",
          "text": [
            "keywords for text №1 ['московский', 'первый', 'это', 'братский поминовение', 'александр кастальский', 'хор', 'совместно', 'совместный', 'война', 'филармония', 'исполнить сочинение', 'страна']\n",
            "keywords for text №2 ['щелкунчик', 'опера', 'часто', 'часть', 'афиша', 'театр', 'информационный агентство', 'праздник', 'делать', 'классика', 'энгельбердт', 'humperdinck']\n",
            "keywords for text №3 ['выставка', 'музей', 'фотограф', 'работа', 'фотография папарацци', 'который', 'также', 'пэрис', 'искусство', 'schirn', 'художник', 'жизнь', 'кеннеди', 'принцесса', 'звезда', 'являться', 'бруно', 'шерман', 'dpa', 'спирс', 'визуальный', 'жёлтый', 'ростэн', 'герхард']\n",
            "keywords for text №4 ['стена', 'искусство', 'lego', 'куратор передвижной выставка', 'мочь', 'произведение', 'готовить экспозиция', 'построить третьяковка', 'показать', 'работа', 'модель новый', 'метр', 'третьяковский']\n",
            "keywords for text №5 ['центр авангард', 'автор', 'деятельность', 'проект', 'стать толерантный', 'новый', 'толерантность', 'который', 'музей', 'андрей', 'позволить', 'должный', 'это наш', 'специалист', 'энциклопедия русский', 'точка', 'род', 'кинопоказ', 'взять', 'объяснять', 'малевич', 'принципиальный', 'принципиально', 'предполагать', 'программа', 'представитель', 'выпускной квалификационный', 'художник', 'имя', 'большой', 'больший', 'эпоха', 'насимов', 'выпускник', 'рггу', 'интересоваться']\n"
          ]
        }
      ]
    },
    {
      "cell_type": "code",
      "metadata": {
        "colab": {
          "base_uri": "https://localhost:8080/"
        },
        "id": "oS1CyDNTUIUq",
        "outputId": "8818a47f-5804-43d6-ae3c-bfe41ccd32ec"
      },
      "source": [
        "get_scores(kw_textrank, 'TextRank')"
      ],
      "execution_count": 168,
      "outputs": [
        {
          "output_type": "execute_result",
          "data": {
            "text/plain": [
              "('точность TextRank:',\n",
              " 0.122,\n",
              " 'полнота TextRank:',\n",
              " 0.174,\n",
              " 'f-мера TextRank:',\n",
              " 0.144)"
            ]
          },
          "metadata": {},
          "execution_count": 168
        }
      ]
    },
    {
      "cell_type": "markdown",
      "metadata": {
        "id": "lV-TBEB_1c0S"
      },
      "source": [
        "#### TF-IDF"
      ]
    },
    {
      "cell_type": "code",
      "metadata": {
        "id": "zfJ9gh8WMOEq"
      },
      "source": [
        "def sort_coo(coo_matrix):\n",
        "    \"\"\"Sort a dict with highest score\"\"\"\n",
        "    tuples = zip(coo_matrix.col, coo_matrix.data)\n",
        "    return sorted(tuples, key=lambda x: (x[1], x[0]), reverse=True)\n",
        "\n",
        "\n",
        "def extract_topn_from_vector(feature_names, sorted_items, topn=10):\n",
        "    sorted_items = sorted_items[:topn]\n",
        "    score_vals = []\n",
        "    feature_vals = []\n",
        "    for idx, score in sorted_items:\n",
        "        score_vals.append(round(score, 3))\n",
        "        feature_vals.append(feature_names[idx])\n",
        "    results= {}\n",
        "    for idx in range(len(feature_vals)):\n",
        "        results[feature_vals[idx]]=score_vals[idx]\n",
        "    return results\n",
        "\n",
        "\n",
        "def get_keywords(vectorizer, feature_names, doc):\n",
        "    tf_idf_vector = vectorizer.transform([doc])\n",
        "    sorted_items=sort_coo(tf_idf_vector.tocoo())\n",
        "    keywords=extract_topn_from_vector(feature_names,sorted_items,15)\n",
        "    return list(keywords.keys())"
      ],
      "execution_count": 145,
      "outputs": []
    },
    {
      "cell_type": "code",
      "metadata": {
        "id": "GTSZI9wvOjF2"
      },
      "source": [
        "all_texts = ''\n",
        "for i in range(0, len(df['text'])):\n",
        "  all_texts += df['text'][i]\n",
        "vectorizer = TfidfVectorizer(stop_words=stop, smooth_idf=True, ngram_range=(1,3))\n",
        "vectorizer.fit_transform([normalize_text(all_texts)])\n",
        "feature_names = vectorizer.get_feature_names()"
      ],
      "execution_count": 146,
      "outputs": []
    },
    {
      "cell_type": "code",
      "metadata": {
        "id": "M-M_boqFMZBc"
      },
      "source": [
        "kw_tfidf = []\n",
        "for num in range(0, 5):\n",
        "  kw_list_tfidf = get_keywords(vectorizer, feature_names, normalize_text(df['text'][num]))\n",
        "  kw_tfidf.append(kw_list_tfidf)"
      ],
      "execution_count": 147,
      "outputs": []
    },
    {
      "cell_type": "code",
      "metadata": {
        "colab": {
          "base_uri": "https://localhost:8080/"
        },
        "id": "mqWJ21mYPoJJ",
        "outputId": "2fd7bbcb-1d8e-4682-abb7-e2388bc976d7"
      },
      "source": [
        "for text in range(0, len(kw_tfidf)):\n",
        "  print('keywords for text №' + str(text+1), kw_textrank[text])"
      ],
      "execution_count": 148,
      "outputs": [
        {
          "output_type": "stream",
          "name": "stdout",
          "text": [
            "keywords for text №1 ['московский', 'первый', 'это', 'братский поминовение', 'александр кастальский', 'хор', 'совместно', 'совместный', 'война', 'филармония', 'исполнить сочинение', 'страна']\n",
            "keywords for text №2 ['щелкунчик', 'опера', 'часто', 'часть', 'афиша', 'театр', 'информационный агентство', 'праздник', 'делать', 'классика', 'энгельбердт', 'humperdinck']\n",
            "keywords for text №3 ['выставка', 'музей', 'фотограф', 'работа', 'фотография папарацци', 'который', 'также', 'пэрис', 'искусство', 'schirn', 'художник', 'жизнь', 'кеннеди', 'принцесса', 'звезда', 'являться', 'бруно', 'шерман', 'dpa', 'спирс', 'визуальный', 'жёлтый', 'ростэн', 'герхард']\n",
            "keywords for text №4 ['стена', 'искусство', 'lego', 'куратор передвижной выставка', 'мочь', 'произведение', 'готовить экспозиция', 'построить третьяковка', 'показать', 'работа', 'модель новый', 'метр', 'третьяковский']\n",
            "keywords for text №5 ['центр авангард', 'автор', 'деятельность', 'проект', 'стать толерантный', 'новый', 'толерантность', 'который', 'музей', 'андрей', 'позволить', 'должный', 'это наш', 'специалист', 'энциклопедия русский', 'точка', 'род', 'кинопоказ', 'взять', 'объяснять', 'малевич', 'принципиальный', 'принципиально', 'предполагать', 'программа', 'представитель', 'выпускной квалификационный', 'художник', 'имя', 'большой', 'больший', 'эпоха', 'насимов', 'выпускник', 'рггу', 'интересоваться']\n"
          ]
        }
      ]
    },
    {
      "cell_type": "code",
      "metadata": {
        "colab": {
          "base_uri": "https://localhost:8080/"
        },
        "id": "lIDNMmlPcJHc",
        "outputId": "741da2db-2d6f-42c4-abc7-81e434b31663"
      },
      "source": [
        "get_scores(kw_tfidf, 'TF-IDF')"
      ],
      "execution_count": 169,
      "outputs": [
        {
          "output_type": "execute_result",
          "data": {
            "text/plain": [
              "('точность TF-IDF:', 0.213, 'полнота TF-IDF:', 0.302, 'f-мера TF-IDF:', 0.25)"
            ]
          },
          "metadata": {},
          "execution_count": 169
        }
      ]
    },
    {
      "cell_type": "markdown",
      "metadata": {
        "id": "cW7H5kBoCfHt"
      },
      "source": [
        "Теперь вернемся к эталонным ключевым словам и посмотрим на синтаксические/морфологические паттерны. "
      ]
    },
    {
      "cell_type": "code",
      "metadata": {
        "colab": {
          "base_uri": "https://localhost:8080/"
        },
        "id": "69Mua1DHCqMg",
        "outputId": "93a850b5-d379-4f1a-8682-698a4fb1c71c"
      },
      "source": [
        "for row in range(0, len(df)):\n",
        "  print(df['standart'][row])"
      ],
      "execution_count": 150,
      "outputs": [
        {
          "output_type": "stream",
          "name": "stdout",
          "text": [
            "Александр Кастальский, Братское поминовение, Московская филармония, хоровые коллективы, Figuralchor, Первая мировая война, Россия, Австрия, Германия, воплощение замысла\n",
            "Щелкунчик, театральная афиша, Германия, Чайковский, Моцарт, Хумпердинк, опера, Рождество, праздники, популярная классика, афиша\n",
            "глянцевая фотография, папарацци, выставка, Франкфурт-на-Майне, Schirn, Пэрис Хилтон, Бритни Спирс, шоу-бизнес, принцесса Диана, Джеки Кеннеди-Онассис, репортеры\n",
            "Третьяковская галерея, выставка в Третьяковке, выставка в Москве, Европейские художники, Diversity United, миниатюрный музей, Новая Третьяковка, кирпичики LEGO, Германия, Новая Третьяковка, миниатюрная модель, Бонн, Москва, Берлин, Париж\n",
            "авангард, искусство, толерантность, минкульт, Еврейский музей , центр толерантности, новая программа, Энциклопедия русского авангарда\n"
          ]
        }
      ]
    },
    {
      "cell_type": "markdown",
      "metadata": {
        "id": "pqAGlYJgC4Sk"
      },
      "source": [
        "Что характерно для ключевых слов:\n",
        "*   Noun + Noun\n",
        "*   Adj + Noun\n",
        "*   Adj + Adj + Noun\n",
        "*   Noun\n",
        "*   Noun + Noun + Noun (имена, названия)\n",
        "*   слова на латинице (города, названия)\n",
        "*   N + Adj (так распознаются например имена собственные с фамилиями на -ий)\n",
        "\n",
        "\n"
      ]
    },
    {
      "cell_type": "code",
      "metadata": {
        "id": "tGKIqIy3EadL"
      },
      "source": [
        "Name = fact(\n",
        "    'Name',\n",
        "    ['first', 'last']\n",
        ")\n",
        "NAME = rule(\n",
        "    gram('Name').interpretation(\n",
        "        Name.first.inflected()\n",
        "    ),\n",
        "    gram('Surn').interpretation(\n",
        "        Name.last.inflected()\n",
        "    )\n",
        ").interpretation(\n",
        "    Name\n",
        ")\n",
        "NP = rule(gram('NOUN'), gram('NOUN'))\n",
        "AdjP = rule(gram('ADJF'), gram('NOUN'))\n",
        "AdjAdjP = rule(gram('ADJF'), gram('ADJF'), gram('NOUN'))\n",
        "NNP = rule(gram('NOUN'), gram('NOUN'), gram('NOUN'))\n",
        "N = rule(gram('NOUN'))\n",
        "PAdj = rule(gram('NOUN'), gram('ADJF'))\n",
        "\n",
        "\n",
        "grammar = Parser(\n",
        "    or_(\n",
        "        NAME,\n",
        "        NP,\n",
        "        AdjP,\n",
        "        AdjAdjP,\n",
        "        NNP,\n",
        "        N,\n",
        "        PAdj\n",
        "    )\n",
        ")"
      ],
      "execution_count": 151,
      "outputs": []
    },
    {
      "cell_type": "code",
      "metadata": {
        "id": "fc87mKH-JgLG"
      },
      "source": [
        "def filtering(kw_set):\n",
        "  new_kw = []\n",
        "  for kw in kw_set:\n",
        "    if kw.isascii():\n",
        "      new_kw.append(kw)\n",
        "    for match in grammar.findall(kw):\n",
        "      new_keyword = ' '.join([_.value for _ in match.tokens])\n",
        "      new_kw.append(new_keyword)\n",
        "  return new_kw\n",
        "\n",
        "\n",
        "def get_new_keywords(predicted_keywords):\n",
        "  new_predicted_kw = []\n",
        "  for kw_set in predicted_keywords:\n",
        "    new_predicted_kw.append(filtering(kw_set))\n",
        "  return new_predicted_kw"
      ],
      "execution_count": 152,
      "outputs": []
    },
    {
      "cell_type": "code",
      "metadata": {
        "id": "z9A2nz0URe9D"
      },
      "source": [
        "new_kw_rake = get_new_keywords(kw_rake)\n",
        "new_kw_textrank = get_new_keywords(kw_textrank)\n",
        "new_kw_tfidf = get_new_keywords(kw_tfidf)"
      ],
      "execution_count": 153,
      "outputs": []
    },
    {
      "cell_type": "markdown",
      "metadata": {
        "id": "HyM-cUibTUI_"
      },
      "source": [
        "Посмотрим что получилось после фильтрации по заданным шаблонам."
      ]
    },
    {
      "cell_type": "code",
      "metadata": {
        "colab": {
          "base_uri": "https://localhost:8080/"
        },
        "id": "X8arkNsYTTPg",
        "outputId": "939fd7e3-8777-44d3-8bdf-d1011e757ca3"
      },
      "source": [
        "for text in range(0, len(new_kw_tfidf)):\n",
        "  print('RAKE keywords for text №' + str(text+1), new_kw_rake[text])\n",
        "print('------')\n",
        "for text in range(0, len(new_kw_tfidf)):\n",
        "  print('TextRank keywords for text №' + str(text+1), new_kw_textrank[text])\n",
        "print('------')\n",
        "for text in range(0, len(new_kw_tfidf)):\n",
        "  print('TF-IDF keywords for text №' + str(text+1), new_kw_tfidf[text])"
      ],
      "execution_count": 154,
      "outputs": [
        {
          "output_type": "stream",
          "name": "stdout",
          "text": [
            "RAKE keywords for text №1 ['хоровой коллектив', 'братский поминовение', 'москва', 'германия', 'россия', 'память']\n",
            "RAKE keywords for text №2 ['щелкунчик']\n",
            "RAKE keywords for text №3 ['папарацци', 'фотограф', 'звезда', 'снимок']\n",
            "RAKE keywords for text №4 ['из', 'москва', 'берлин', 'париж']\n",
            "RAKE keywords for text №5 ['энциклопедия русский', 'авангард', 'центр авангард', 'центр толерантность', 'еврейский музей', 'авангард']\n",
            "------\n",
            "TextRank keywords for text №1 ['московский', 'братский поминовение', 'александр кастальский', 'хор', 'война', 'филармония', 'сочинение', 'страна']\n",
            "TextRank keywords for text №2 ['щелкунчик', 'опера', 'часть', 'афиша', 'театр', 'информационный агентство', 'праздник', 'классика', 'энгельбердт', 'humperdinck']\n",
            "TextRank keywords for text №3 ['выставка', 'музей', 'фотограф', 'работа', 'фотография папарацци', 'пэрис', 'искусство', 'schirn', 'художник', 'жизнь', 'кеннеди', 'принцесса', 'звезда', 'бруно', 'шерман', 'dpa', 'спирс', 'ростэн', 'герхард']\n",
            "TextRank keywords for text №4 ['стена', 'искусство', 'lego', 'куратор передвижной', 'выставка', 'мочь', 'произведение', 'экспозиция', 'третьяковка', 'работа', 'модель новый', 'метр']\n",
            "TextRank keywords for text №5 ['центр авангард', 'автор', 'деятельность', 'проект', 'стать толерантный', 'толерантность', 'музей', 'андрей', 'специалист', 'энциклопедия русский', 'точка', 'род', 'кинопоказ', 'малевич', 'программа', 'представитель', 'художник', 'имя', 'эпоха', 'насимов', 'выпускник', 'рггу']\n",
            "------\n",
            "TF-IDF keywords for text №1 ['поминовение', 'братский поминовение', 'хоровой коллектив', 'хор', 'собор', 'первый мировой война', 'первый мировой', 'московский', 'мировой война', 'мировой', 'коллектив', 'кафедральный собор']\n",
            "TF-IDF keywords for text №2 ['германия', 'щелкунчик', 'театр', 'праздничный афиша', 'праздник', 'опера', 'афиша', 'энгельбердт хумпердинка', 'энгельбердт хумпердинка', 'энгельбердт', 'щелкунчик пётр ильич', 'щелкунчик пётр', 'щелкунчик музыкальный', 'театр']\n",
            "TF-IDF keywords for text №3 ['выставка', 'папарацци', 'музей', 'художник', 'фотография', 'искусство', 'звезда', 'хилтон', 'франкфурт', 'фотограф звезда художник', 'фотограф звезда', 'фотограф', 'снимок']\n",
            "TF-IDF keywords for text №4 ['выставка', 'художник', 'третьяковка', 'стена', 'москва', 'искусство', 'экспозиция', 'третьяковский галерея', 'произведение', 'передвижной выставка', 'париж', 'пандемия']\n",
            "TF-IDF keywords for text №5 ['авангард', 'центр', 'центр авангард', 'музей', 'проект', 'автор', 'русский авангард', 'еврейский музей', 'деятельность', 'энциклопедия', 'толерантность', 'стать']\n"
          ]
        }
      ]
    },
    {
      "cell_type": "markdown",
      "metadata": {
        "id": "TUlsA1sCUnol"
      },
      "source": [
        "Посмотрим на результаты метрик с примененными шаблонами."
      ]
    },
    {
      "cell_type": "code",
      "metadata": {
        "colab": {
          "base_uri": "https://localhost:8080/"
        },
        "id": "5ttcUbzSUkkg",
        "outputId": "6cba5c82-6760-4a39-bff8-37128748343b"
      },
      "source": [
        "get_scores(new_kw_rake, 'RAKE')"
      ],
      "execution_count": 170,
      "outputs": [
        {
          "output_type": "execute_result",
          "data": {
            "text/plain": [
              "('точность RAKE:', 0.633, 'полнота RAKE:', 0.231, 'f-мера RAKE:', 0.339)"
            ]
          },
          "metadata": {},
          "execution_count": 170
        }
      ]
    },
    {
      "cell_type": "code",
      "metadata": {
        "colab": {
          "base_uri": "https://localhost:8080/"
        },
        "id": "AEN5IPU1VHrB",
        "outputId": "5f0fa588-a4c7-4a7e-aa59-85a05142afbc"
      },
      "source": [
        "get_scores(new_kw_textrank, 'TextRank')"
      ],
      "execution_count": 171,
      "outputs": [
        {
          "output_type": "execute_result",
          "data": {
            "text/plain": [
              "('точность TextRank:',\n",
              " 0.16,\n",
              " 'полнота TextRank:',\n",
              " 0.174,\n",
              " 'f-мера TextRank:',\n",
              " 0.167)"
            ]
          },
          "metadata": {},
          "execution_count": 171
        }
      ]
    },
    {
      "cell_type": "code",
      "metadata": {
        "colab": {
          "base_uri": "https://localhost:8080/"
        },
        "id": "WY6ojKspVLlB",
        "outputId": "83019eaa-04a1-46b3-9a9a-091a8df25a88"
      },
      "source": [
        "get_scores(new_kw_tfidf, 'TF-IDF')"
      ],
      "execution_count": 172,
      "outputs": [
        {
          "output_type": "execute_result",
          "data": {
            "text/plain": [
              "('точность TF-IDF:', 0.252, 'полнота TF-IDF:', 0.302, 'f-мера TF-IDF:', 0.275)"
            ]
          },
          "metadata": {},
          "execution_count": 172
        }
      ]
    },
    {
      "cell_type": "markdown",
      "metadata": {
        "id": "Gi2EpYd3jMQi"
      },
      "source": [
        "Для красоты визуализировала результаты по всем методам.\n",
        "1) Полнота 2) Точность 3) F-мера"
      ]
    },
    {
      "cell_type": "code",
      "metadata": {
        "colab": {
          "base_uri": "https://localhost:8080/",
          "height": 390
        },
        "id": "nTuabn8FfTl9",
        "outputId": "7d6f76d2-97fb-43f5-cb6a-207533b7c1f8"
      },
      "source": [
        "fig = plt.figure(figsize=(10, 6))\n",
        "\n",
        "X = ['RAKE', 'TextRank', 'TF-IDF']\n",
        "xmaes = [get_scores(kw_rake, 'RAKE')[1], get_scores(kw_textrank, 'TextRank')[1], get_scores(kw_tfidf, 'TF-IDF')[1]]\n",
        "yrmses = [get_scores(new_kw_rake, 'RAKE')[1], get_scores(new_kw_textrank, 'TextRank')[1], get_scores(new_kw_tfidf, 'TF-IDF')[1]]\n",
        "\n",
        "X_axis = np.arange(len(X))\n",
        "\n",
        "plt.bar(X_axis - 0.2, xmaes, 0.4, color = 'b', label = 'First predicted')\n",
        "plt.bar(X_axis + 0.2, yrmses, 0.4, color = 'r', label = 'With patterns')\n",
        "  \n",
        "plt.xticks(X_axis, X)\n",
        "plt.title(\"Точность\")\n",
        "plt.legend()\n",
        "plt.show()"
      ],
      "execution_count": 181,
      "outputs": [
        {
          "output_type": "display_data",
          "data": {
            "image/png": "[encoded data removed]",
            "text/plain": [
              "<Figure size 720x432 with 1 Axes>"
            ]
          },
          "metadata": {
            "needs_background": "light"
          }
        }
      ]
    },
    {
      "cell_type": "code",
      "metadata": {
        "colab": {
          "base_uri": "https://localhost:8080/",
          "height": 390
        },
        "id": "Gzi5-m-1ikRK",
        "outputId": "ef3d167c-1815-411b-f987-0e31725d3cfa"
      },
      "source": [
        "fig = plt.figure(figsize=(10, 6))\n",
        "\n",
        "X = ['RAKE', 'TextRank', 'TF-IDF']\n",
        "xmaes = [get_scores(kw_rake, 'RAKE')[3], get_scores(kw_textrank, 'TextRank')[3], get_scores(kw_tfidf, 'TF-IDF')[3]]\n",
        "yrmses = [get_scores(new_kw_rake, 'RAKE')[3], get_scores(new_kw_textrank, 'TextRank')[3], get_scores(new_kw_tfidf, 'TF-IDF')[3]]\n",
        "\n",
        "X_axis = np.arange(len(X))\n",
        "\n",
        "plt.bar(X_axis - 0.2, xmaes, 0.4, color = 'b', label = 'First predicted')\n",
        "plt.bar(X_axis + 0.2, yrmses, 0.4, color = 'r', label = 'With patterns')\n",
        "  \n",
        "plt.xticks(X_axis, X)\n",
        "plt.title(\"Полнота\")\n",
        "plt.legend()\n",
        "plt.show()"
      ],
      "execution_count": 182,
      "outputs": [
        {
          "output_type": "display_data",
          "data": {
            "image/png": "[encoded data removed]",
            "text/plain": [
              "<Figure size 720x432 with 1 Axes>"
            ]
          },
          "metadata": {
            "needs_background": "light"
          }
        }
      ]
    },
    {
      "cell_type": "code",
      "metadata": {
        "colab": {
          "base_uri": "https://localhost:8080/",
          "height": 390
        },
        "id": "Cxjf479Uitrz",
        "outputId": "38cda707-3ac6-42bf-9d6a-fdce63acd767"
      },
      "source": [
        "fig = plt.figure(figsize=(10, 6))\n",
        "\n",
        "X = ['RAKE', 'TextRank', 'TF-IDF']\n",
        "xmaes = [get_scores(kw_rake, 'RAKE')[5], get_scores(kw_textrank, 'TextRank')[5], get_scores(kw_tfidf, 'TF-IDF')[5]]\n",
        "yrmses = [get_scores(new_kw_rake, 'RAKE')[5], get_scores(new_kw_textrank, 'TextRank')[5], get_scores(new_kw_tfidf, 'TF-IDF')[5]]\n",
        "\n",
        "X_axis = np.arange(len(X))\n",
        "\n",
        "plt.bar(X_axis - 0.2, xmaes, 0.4, color = 'b', label = 'First predicted')\n",
        "plt.bar(X_axis + 0.2, yrmses, 0.4, color = 'r', label = 'With patterns')\n",
        "  \n",
        "plt.xticks(X_axis, X)\n",
        "plt.title(\"F-score\")\n",
        "plt.legend()\n",
        "plt.show()"
      ],
      "execution_count": 183,
      "outputs": [
        {
          "output_type": "display_data",
          "data": {
            "image/png": "[encoded data removed]",
            "text/plain": [
              "<Figure size 720x432 with 1 Axes>"
            ]
          },
          "metadata": {
            "needs_background": "light"
          }
        }
      ]
    },
    {
      "cell_type": "markdown",
      "metadata": {
        "id": "GgzwIxjJidud"
      },
      "source": [
        "#### Выводы\n",
        "\n",
        "\n"
      ]
    },
    {
      "cell_type": "markdown",
      "metadata": {
        "id": "1mochxa7i10C"
      },
      "source": [
        "1.  **Результаты метрик**: применение шаблонов не дало лучших результатов (в случае RAKE они даже стали хуже). В целом из всех методов лучше всех с выделением ключевых слов справился RAKE. Применение шаблонов представилось достаточно трудной задачей, потому что в текстах встречаются длинные ключевые слова (например, \"Энциклопедия русского авангарда\"), которые в себе содержат несколько именных групп. По этой причине мне пришлось выделить наиболее общие паттерны, а уникальные случаи с перстановкой слов и большим кол-во слов пришлось исключить (именнно из-за этого и упали результаты в RAKE). В целом можно решить эту проблему упрощением ключевых слов или добавлением большего кол-ва правил для шаблонов."
      ]
    },
    {
      "cell_type": "markdown",
      "metadata": {
        "id": "tdFXqcz2jAns"
      },
      "source": [
        "2.   **Ошибки автоматического выделения ключевых слов**: \n",
        "\n",
        "*   Наиболее распростаненные ключевые слова -- существительные. Но проблема в том, что методы не различают именованные и обычные сущ-е, из-за чего иногда всплывают лишние ключевые слова, а нужные имена и названия не выделяются. + проблема имен (брать полные или только фамилию? непонятно).\n",
        "*   По всей видимости, ключевые слова тяготеют к упрощению и обобщению информации. Ни один метод не извлек ключевые слова вида \"событие на месте\". Более популярны все-таки теги, тк они как раз и являются обобщением. Ключевые слова же берутся из текста и часто могут не соответствовать автоматическому извлечению. Тут нужно скорее всего поиграться со словами, сделать их проще и меньше по количеству. \n",
        "\n",
        "\n",
        "\n"
      ]
    }
  ]
}
