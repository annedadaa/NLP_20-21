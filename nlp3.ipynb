{
  "nbformat": 4,
  "nbformat_minor": 0,
  "metadata": {
    "colab": {
      "name": "nlp3.ipynb",
      "provenance": []
    },
    "kernelspec": {
      "display_name": "Python 3",
      "language": "python",
      "name": "python3"
    },
    "language_info": {
      "codemirror_mode": {
        "name": "ipython",
        "version": 3
      },
      "file_extension": ".py",
      "mimetype": "text/x-python",
      "name": "python",
      "nbconvert_exporter": "python",
      "pygments_lexer": "ipython3",
      "version": "3.7.4"
    }
  },
  "cells": [
    {
      "cell_type": "markdown",
      "metadata": {
        "id": "q6r82A9ngowY"
      },
      "source": [
        "Дз 3. Поиск топиков в текстах, работа с gensim\n",
        "#### Аня Смирнова БКЛ181 \n"
      ]
    },
    {
      "cell_type": "code",
      "metadata": {
        "id": "dUdkQGtDonnr"
      },
      "source": [
        "import re\n",
        "import numpy as np\n",
        "import pandas as pd\n",
        "from pprint import pprint\n",
        "\n",
        "import collections\n",
        "\n",
        "# Gensim\n",
        "import gensim\n",
        "import gensim.corpora as corpora\n",
        "from gensim.utils import simple_preprocess\n",
        "from gensim.models import CoherenceModel\n",
        "\n",
        "# spacy for lemmatization\n",
        "import spacy\n",
        "\n",
        "# Plotting tools\n",
        "import pyLDAvis\n",
        "import pyLDAvis.gensim  # don't skip this\n",
        "import matplotlib.pyplot as plt\n",
        "%matplotlib inline\n",
        "\n",
        "# Enable logging for gensim - optional\n",
        "import logging\n",
        "logging.basicConfig(format='%(asctime)s : %(levelname)s : %(message)s', level=logging.ERROR)\n",
        "\n",
        "import warnings\n",
        "warnings.filterwarnings(\"ignore\",category=DeprecationWarning)"
      ],
      "execution_count": null,
      "outputs": []
    },
    {
      "cell_type": "code",
      "metadata": {
        "id": "D8U5yf_Tx3ZB"
      },
      "source": [
        "#!pip install pyLDAvis"
      ],
      "execution_count": 236,
      "outputs": []
    },
    {
      "cell_type": "code",
      "metadata": {
        "id": "CXqf1Mc0on0Y"
      },
      "source": [
        "from nltk.corpus import stopwords\n",
        "stop_words = stopwords.words('english')\n",
        "stop_words.extend(['from', 'subject', 're', 'edu', 'use'])"
      ],
      "execution_count": null,
      "outputs": []
    },
    {
      "cell_type": "markdown",
      "metadata": {
        "id": "76zdVp_9hKQt"
      },
      "source": [
        "выгружаем датасет.\n",
        "убираем лишние знаки, стоп-слова, пунктуацию"
      ]
    },
    {
      "cell_type": "code",
      "metadata": {
        "id": "aSBo6Yq6on8B",
        "outputId": "df3dd5f9-a24d-40de-9b28-e7e6ce93210f",
        "colab": {
          "base_uri": "https://localhost:8080/",
          "height": 296
        }
      },
      "source": [
        "df_raw = pd.read_json('https://raw.githubusercontent.com/selva86/datasets/master/newsgroups.json')\n",
        "print(df_raw.target_names.unique())\n",
        "df_raw.head()"
      ],
      "execution_count": null,
      "outputs": [
        {
          "output_type": "stream",
          "text": [
            "['rec.autos' 'comp.sys.mac.hardware' 'comp.graphics' 'sci.space'\n",
            " 'talk.politics.guns' 'sci.med' 'comp.sys.ibm.pc.hardware'\n",
            " 'comp.os.ms-windows.misc' 'rec.motorcycles' 'talk.religion.misc'\n",
            " 'misc.forsale' 'alt.atheism' 'sci.electronics' 'comp.windows.x'\n",
            " 'rec.sport.hockey' 'rec.sport.baseball' 'soc.religion.christian'\n",
            " 'talk.politics.mideast' 'talk.politics.misc' 'sci.crypt']\n"
          ],
          "name": "stdout"
        },
        {
          "output_type": "execute_result",
          "data": {
            "text/html": [
              "<div>\n",
              "<style scoped>\n",
              "    .dataframe tbody tr th:only-of-type {\n",
              "        vertical-align: middle;\n",
              "    }\n",
              "\n",
              "    .dataframe tbody tr th {\n",
              "        vertical-align: top;\n",
              "    }\n",
              "\n",
              "    .dataframe thead th {\n",
              "        text-align: right;\n",
              "    }\n",
              "</style>\n",
              "<table border=\"1\" class=\"dataframe\">\n",
              "  <thead>\n",
              "    <tr style=\"text-align: right;\">\n",
              "      <th></th>\n",
              "      <th>content</th>\n",
              "      <th>target</th>\n",
              "      <th>target_names</th>\n",
              "    </tr>\n",
              "  </thead>\n",
              "  <tbody>\n",
              "    <tr>\n",
              "      <th>0</th>\n",
              "      <td>From: lerxst@wam.umd.edu (where's my thing)\\nS...</td>\n",
              "      <td>7</td>\n",
              "      <td>rec.autos</td>\n",
              "    </tr>\n",
              "    <tr>\n",
              "      <th>1</th>\n",
              "      <td>From: guykuo@carson.u.washington.edu (Guy Kuo)...</td>\n",
              "      <td>4</td>\n",
              "      <td>comp.sys.mac.hardware</td>\n",
              "    </tr>\n",
              "    <tr>\n",
              "      <th>2</th>\n",
              "      <td>From: twillis@ec.ecn.purdue.edu (Thomas E Will...</td>\n",
              "      <td>4</td>\n",
              "      <td>comp.sys.mac.hardware</td>\n",
              "    </tr>\n",
              "    <tr>\n",
              "      <th>3</th>\n",
              "      <td>From: jgreen@amber (Joe Green)\\nSubject: Re: W...</td>\n",
              "      <td>1</td>\n",
              "      <td>comp.graphics</td>\n",
              "    </tr>\n",
              "    <tr>\n",
              "      <th>4</th>\n",
              "      <td>From: jcm@head-cfa.harvard.edu (Jonathan McDow...</td>\n",
              "      <td>14</td>\n",
              "      <td>sci.space</td>\n",
              "    </tr>\n",
              "  </tbody>\n",
              "</table>\n",
              "</div>"
            ],
            "text/plain": [
              "                                             content  ...           target_names\n",
              "0  From: lerxst@wam.umd.edu (where's my thing)\\nS...  ...              rec.autos\n",
              "1  From: guykuo@carson.u.washington.edu (Guy Kuo)...  ...  comp.sys.mac.hardware\n",
              "2  From: twillis@ec.ecn.purdue.edu (Thomas E Will...  ...  comp.sys.mac.hardware\n",
              "3  From: jgreen@amber (Joe Green)\\nSubject: Re: W...  ...          comp.graphics\n",
              "4  From: jcm@head-cfa.harvard.edu (Jonathan McDow...  ...              sci.space\n",
              "\n",
              "[5 rows x 3 columns]"
            ]
          },
          "metadata": {
            "tags": []
          },
          "execution_count": 7
        }
      ]
    },
    {
      "cell_type": "code",
      "metadata": {
        "id": "E1vQLxa3TbrA",
        "outputId": "449c2f18-1961-41d3-d458-86c1e46a283b",
        "colab": {
          "base_uri": "https://localhost:8080/",
          "height": 185
        }
      },
      "source": [
        "data = df_raw.content.values.tolist()\n",
        "data = [re.sub('\\S*@\\S*\\s?', '', sent) for sent in data]\n",
        "data = [re.sub('\\s+', ' ', sent) for sent in data]\n",
        "data = [re.sub(\"\\'\", \"\", sent) for sent in data]\n",
        "\n",
        "pprint(data[:1])"
      ],
      "execution_count": null,
      "outputs": [
        {
          "output_type": "stream",
          "text": [
            "['From: (wheres my thing) Subject: WHAT car is this!? Nntp-Posting-Host: '\n",
            " 'rac3.wam.umd.edu Organization: University of Maryland, College Park Lines: '\n",
            " '15 I was wondering if anyone out there could enlighten me on this car I saw '\n",
            " 'the other day. It was a 2-door sports car, looked to be from the late 60s/ '\n",
            " 'early 70s. It was called a Bricklin. The doors were really small. In '\n",
            " 'addition, the front bumper was separate from the rest of the body. This is '\n",
            " 'all I know. If anyone can tellme a model name, engine specs, years of '\n",
            " 'production, where this car is made, history, or whatever info you have on '\n",
            " 'this funky looking car, please e-mail. Thanks, - IL ---- brought to you by '\n",
            " 'your neighborhood Lerxst ---- ']\n"
          ],
          "name": "stdout"
        }
      ]
    },
    {
      "cell_type": "code",
      "metadata": {
        "id": "pmyqeXMtrX4S",
        "outputId": "b49bf3cb-a49e-478d-844b-4b05432be10d",
        "colab": {
          "base_uri": "https://localhost:8080/",
          "height": 54
        }
      },
      "source": [
        "def sent_to_words(sentences):\n",
        "    for sentence in sentences:\n",
        "        yield(gensim.utils.simple_preprocess(str(sentence), deacc=True))  # deacc=True removes punctuations\n",
        "data_words = list(sent_to_words(data))\n",
        "print(data_words[:1])"
      ],
      "execution_count": null,
      "outputs": [
        {
          "output_type": "stream",
          "text": [
            "[['from', 'wheres', 'my', 'thing', 'subject', 'what', 'car', 'is', 'this', 'nntp', 'posting', 'host', 'rac', 'wam', 'umd', 'edu', 'organization', 'university', 'of', 'maryland', 'college', 'park', 'lines', 'was', 'wondering', 'if', 'anyone', 'out', 'there', 'could', 'enlighten', 'me', 'on', 'this', 'car', 'saw', 'the', 'other', 'day', 'it', 'was', 'door', 'sports', 'car', 'looked', 'to', 'be', 'from', 'the', 'late', 'early', 'it', 'was', 'called', 'bricklin', 'the', 'doors', 'were', 'really', 'small', 'in', 'addition', 'the', 'front', 'bumper', 'was', 'separate', 'from', 'the', 'rest', 'of', 'the', 'body', 'this', 'is', 'all', 'know', 'if', 'anyone', 'can', 'tellme', 'model', 'name', 'engine', 'specs', 'years', 'of', 'production', 'where', 'this', 'car', 'is', 'made', 'history', 'or', 'whatever', 'info', 'you', 'have', 'on', 'this', 'funky', 'looking', 'car', 'please', 'mail', 'thanks', 'il', 'brought', 'to', 'you', 'by', 'your', 'neighborhood', 'lerxst']]\n"
          ],
          "name": "stdout"
        }
      ]
    },
    {
      "cell_type": "markdown",
      "metadata": {
        "id": "u_Z1X9dHhqgt"
      },
      "source": [
        "составляем биграмы и триграмы"
      ]
    },
    {
      "cell_type": "code",
      "metadata": {
        "id": "LPSGGQ8U3uO-",
        "outputId": "6364417a-a968-4c1f-9ba8-6986c448a4e5",
        "colab": {
          "base_uri": "https://localhost:8080/",
          "height": 87
        }
      },
      "source": [
        "# Build the bigram and trigram models\n",
        "bigram = gensim.models.Phrases(data_words, min_count=5, threshold=100) # higher threshold fewer phrases.\n",
        "trigram = gensim.models.Phrases(bigram[data_words], threshold=100)  \n",
        "\n",
        "# Faster way to get a sentence clubbed as a trigram/bigram\n",
        "bigram_mod = gensim.models.phrases.Phraser(bigram)\n",
        "trigram_mod = gensim.models.phrases.Phraser(trigram)\n",
        "\n",
        "# See trigram example\n",
        "print(trigram_mod[bigram_mod[data_words[0]]])"
      ],
      "execution_count": null,
      "outputs": [
        {
          "output_type": "stream",
          "text": [
            "/usr/local/lib/python3.6/dist-packages/gensim/models/phrases.py:598: UserWarning: For a faster implementation, use the gensim.models.phrases.Phraser class\n",
            "  warnings.warn(\"For a faster implementation, use the gensim.models.phrases.Phraser class\")\n"
          ],
          "name": "stderr"
        },
        {
          "output_type": "stream",
          "text": [
            "['from', 'wheres', 'my', 'thing', 'subject', 'what', 'car', 'is', 'this', 'nntp_posting_host', 'rac_wam_umd_edu', 'organization', 'university', 'of', 'maryland_college_park', 'lines', 'was', 'wondering', 'if', 'anyone', 'out', 'there', 'could', 'enlighten', 'me', 'on', 'this', 'car', 'saw', 'the', 'other', 'day', 'it', 'was', 'door', 'sports', 'car', 'looked', 'to', 'be', 'from', 'the', 'late', 'early', 'it', 'was', 'called', 'bricklin', 'the', 'doors', 'were', 'really', 'small', 'in', 'addition', 'the', 'front_bumper', 'was', 'separate', 'from', 'the', 'rest', 'of', 'the', 'body', 'this', 'is', 'all', 'know', 'if', 'anyone', 'can', 'tellme', 'model', 'name', 'engine', 'specs', 'years', 'of', 'production', 'where', 'this', 'car', 'is', 'made', 'history', 'or', 'whatever', 'info', 'you', 'have', 'on', 'this', 'funky', 'looking', 'car', 'please', 'mail', 'thanks', 'il', 'brought', 'to', 'you', 'by', 'your', 'neighborhood', 'lerxst']\n"
          ],
          "name": "stdout"
        }
      ]
    },
    {
      "cell_type": "code",
      "metadata": {
        "id": "2ekNNSTE4ga6"
      },
      "source": [
        "def remove_stopwords(texts):\n",
        "    return [[word for word in simple_preprocess(str(doc)) if word not in stop_words] for doc in texts]\n",
        "def make_bigrams(texts):\n",
        "    return [bigram_mod[doc] for doc in texts]\n",
        "def make_trigrams(texts):\n",
        "    return [trigram_mod[bigram_mod[doc]] for doc in texts]\n",
        "def lemmatization(texts, allowed_postags=['NOUN', 'ADJ', 'VERB', 'ADV']):\n",
        "    \"\"\"https://spacy.io/api/annotation\"\"\"\n",
        "    texts_out = []\n",
        "    for sent in texts:\n",
        "        doc = nlp(\" \".join(sent)) \n",
        "        texts_out.append([token.lemma_ for token in doc if token.pos_ in allowed_postags])\n",
        "    return texts_out"
      ],
      "execution_count": null,
      "outputs": []
    },
    {
      "cell_type": "code",
      "metadata": {
        "id": "jNcnMcpT47c0",
        "outputId": "72a62bbf-971f-47ef-f5ee-70e4dbf7cb7d",
        "colab": {
          "base_uri": "https://localhost:8080/",
          "height": 54
        }
      },
      "source": [
        "# Remove Stop Words\n",
        "data_words_nostops = remove_stopwords(data_words)\n",
        "# Form Bigrams\n",
        "data_words_bigrams = make_bigrams(data_words_nostops)\n",
        "# Initialize spacy 'en' model, keeping only tagger component (for efficiency)\n",
        "# python3 -m spacy download en\n",
        "nlp = spacy.load('en', disable=['parser', 'ner'])\n",
        "# Do lemmatization keeping only noun, adj, vb, adv\n",
        "data_lemmatized = lemmatization(data_words_bigrams, allowed_postags=['NOUN', 'ADJ', 'VERB', 'ADV'])\n",
        "print(data_lemmatized[:1])"
      ],
      "execution_count": null,
      "outputs": [
        {
          "output_type": "stream",
          "text": [
            "[['where', 'thing', 'car', 'nntp_poste', 'host', 'park', 'line', 'wonder', 'could', 'enlighten', 'car', 'see', 'day', 'door', 'sport', 'car', 'look', 'late', 'early', 'call', 'bricklin', 'door', 'really', 'small', 'addition', 'separate', 'rest', 'body', 'know', 'tellme', 'model', 'name', 'engine', 'year', 'production', 'car', 'make', 'history', 'info', 'funky', 'look', 'car', 'mail', 'thank', 'bring', 'neighborhood', 'lerxst']]\n"
          ],
          "name": "stdout"
        }
      ]
    },
    {
      "cell_type": "markdown",
      "metadata": {
        "id": "astH49ghh2yg"
      },
      "source": [
        "создаем корпус, каждому слову в корпусе соответствует определенный номер (корпус - лист из листов, которые содержат словари айди_слова - частотность)"
      ]
    },
    {
      "cell_type": "code",
      "metadata": {
        "id": "gJPtlf7U5Hj0",
        "outputId": "d8688d0d-6ab8-47f3-bc17-0add2d1eb0c8",
        "colab": {
          "base_uri": "https://localhost:8080/",
          "height": 54
        }
      },
      "source": [
        "# Create Dictionary\n",
        "id2word = corpora.Dictionary(data_lemmatized)\n",
        "# Create Corpus\n",
        "texts = data_lemmatized\n",
        "# Term Document Frequency\n",
        "corpus = [id2word.doc2bow(text) for text in texts]\n",
        "# View\n",
        "print(corpus[:1])"
      ],
      "execution_count": null,
      "outputs": [
        {
          "output_type": "stream",
          "text": [
            "[[(0, 1), (1, 1), (2, 1), (3, 1), (4, 1), (5, 5), (6, 1), (7, 1), (8, 2), (9, 1), (10, 1), (11, 1), (12, 1), (13, 1), (14, 1), (15, 1), (16, 1), (17, 1), (18, 1), (19, 1), (20, 2), (21, 1), (22, 1), (23, 1), (24, 1), (25, 1), (26, 1), (27, 1), (28, 1), (29, 1), (30, 1), (31, 1), (32, 1), (33, 1), (34, 1), (35, 1), (36, 1), (37, 1), (38, 1), (39, 1), (40, 1)]]\n"
          ],
          "name": "stdout"
        }
      ]
    },
    {
      "cell_type": "markdown",
      "metadata": {
        "id": "47SMrgI3ie6_"
      },
      "source": [
        "дальше работаем с **mallet**"
      ]
    },
    {
      "cell_type": "code",
      "metadata": {
        "id": "m32Z277E7uCW"
      },
      "source": [
        "#!wget http://mallet.cs.umass.edu/dist/mallet-2.0.8.zip"
      ],
      "execution_count": 233,
      "outputs": []
    },
    {
      "cell_type": "code",
      "metadata": {
        "id": "rQakhkVx7p3e"
      },
      "source": [
        "#!unzip mallet-2.0.8.zip"
      ],
      "execution_count": 232,
      "outputs": []
    },
    {
      "cell_type": "code",
      "metadata": {
        "id": "kSrTYrlY1zcw"
      },
      "source": [
        "from gensim.models.wrappers import LdaMallet\n",
        "\n",
        "mallet_path = '/content/mallet-2.0.8/bin/mallet'"
      ],
      "execution_count": null,
      "outputs": []
    },
    {
      "cell_type": "markdown",
      "metadata": {
        "id": "B9MqhHXHip_F"
      },
      "source": [
        "функция, которая подбирает оптимальное количество групп топиков (грузится ужасно долго,взяла шаг 10, самое оптимальное вышло **32 группы**)"
      ]
    },
    {
      "cell_type": "code",
      "metadata": {
        "id": "NNOsb7nul90q"
      },
      "source": [
        "def compute_coherence_values(dictionary, corpus, texts, start, limit, step):\n",
        "    coherence_values = []\n",
        "    model_list = []\n",
        "    for num_topics in range(start, limit, step):\n",
        "        mallet_path = '/content/mallet-2.0.8/bin/mallet' \n",
        "        ldamallet = gensim.models.wrappers.LdaMallet(mallet_path, corpus=corpus, num_topics=num_topics, id2word=id2word)\n",
        "        model_list.append(ldamallet)\n",
        "        coherence_model_ldamallet = CoherenceModel(model=ldamallet, texts=data_lemmatized, dictionary=id2word, coherence='c_v')\n",
        "        coherence_ldamallet = coherence_model_ldamallet.get_coherence()\n",
        "        print(coherence_ldamallet)\n",
        "        coherence_values.append(coherence_ldamallet)\n",
        "\n",
        "    return model_list, coherence_values"
      ],
      "execution_count": null,
      "outputs": []
    },
    {
      "cell_type": "code",
      "metadata": {
        "id": "b7jNHUC9mufC",
        "outputId": "d79ff439-3411-479e-9bdd-a38e93971a32",
        "colab": {
          "base_uri": "https://localhost:8080/",
          "height": 138
        }
      },
      "source": [
        "model_list, coherence_values = compute_coherence_values(dictionary=id2word, corpus=corpus, texts=data_lemmatized, start=2, limit=40, step=10)"
      ],
      "execution_count": null,
      "outputs": [
        {
          "output_type": "stream",
          "text": [
            "/usr/local/lib/python3.6/dist-packages/smart_open/smart_open_lib.py:252: UserWarning: This function is deprecated, use smart_open.open instead. See the migration notes for details: https://github.com/RaRe-Technologies/smart_open/blob/master/README.rst#migrating-to-the-new-open-function\n",
            "  'See the migration notes for details: %s' % _MIGRATION_NOTES_URL\n"
          ],
          "name": "stderr"
        },
        {
          "output_type": "stream",
          "text": [
            "0.37658984558561215\n",
            "0.5035707198498258\n",
            "0.5371216733238552\n",
            "0.545619030897206\n"
          ],
          "name": "stdout"
        }
      ]
    },
    {
      "cell_type": "markdown",
      "metadata": {
        "id": "gHMDGnjlpPvw"
      },
      "source": [
        "определяем главный топик в текстах"
      ]
    },
    {
      "cell_type": "code",
      "metadata": {
        "id": "zxtR0QCzVgIr",
        "outputId": "ae4185e6-37db-4ef2-f107-a6e8491370a3",
        "colab": {
          "base_uri": "https://localhost:8080/",
          "height": 70
        }
      },
      "source": [
        "ldamallet = gensim.models.wrappers.LdaMallet(mallet_path, corpus=corpus, num_topics=32, id2word=id2word)\n",
        "tm_results = ldamallet[corpus] #получаем все топики для всех текстов\n",
        "corpus_topics = [sorted(topics, key=lambda record: -record[1])[0] for topics in tm_results] #выбираем самый самый главный топик в каждом тексте\n"
      ],
      "execution_count": 212,
      "outputs": [
        {
          "output_type": "stream",
          "text": [
            "/usr/local/lib/python3.6/dist-packages/smart_open/smart_open_lib.py:252: UserWarning: This function is deprecated, use smart_open.open instead. See the migration notes for details: https://github.com/RaRe-Technologies/smart_open/blob/master/README.rst#migrating-to-the-new-open-function\n",
            "  'See the migration notes for details: %s' % _MIGRATION_NOTES_URL\n"
          ],
          "name": "stderr"
        }
      ]
    },
    {
      "cell_type": "code",
      "metadata": {
        "id": "AgGAjWMEh14G",
        "outputId": "7d12b09b-3529-4caa-8299-9cef16298140",
        "colab": {
          "base_uri": "https://localhost:8080/",
          "height": 346
        }
      },
      "source": [
        "topic_df = pd.DataFrame()\n",
        "topic_df['Title'] = df_raw.target_names\n",
        "topic_df['Topic'] = [item[0]+1 for item in corpus_topics]\n",
        "topic_df['Text'] = texts\n",
        "topic_df.head()"
      ],
      "execution_count": 216,
      "outputs": [
        {
          "output_type": "execute_result",
          "data": {
            "text/html": [
              "<div>\n",
              "<style scoped>\n",
              "    .dataframe tbody tr th:only-of-type {\n",
              "        vertical-align: middle;\n",
              "    }\n",
              "\n",
              "    .dataframe tbody tr th {\n",
              "        vertical-align: top;\n",
              "    }\n",
              "\n",
              "    .dataframe thead th {\n",
              "        text-align: right;\n",
              "    }\n",
              "</style>\n",
              "<table border=\"1\" class=\"dataframe\">\n",
              "  <thead>\n",
              "    <tr style=\"text-align: right;\">\n",
              "      <th></th>\n",
              "      <th>Title</th>\n",
              "      <th>Topic</th>\n",
              "      <th>Text</th>\n",
              "    </tr>\n",
              "  </thead>\n",
              "  <tbody>\n",
              "    <tr>\n",
              "      <th>0</th>\n",
              "      <td>rec.autos</td>\n",
              "      <td>1</td>\n",
              "      <td>[where, thing, car, nntp_poste, host, park, line, wonder, could, enlighten, car, see, day, door, sport, car, look, late, early, call, bricklin, door, really, small, addition, separate, rest, body, know, tellme, model, name, engine, year, production, car, make, history, info, funky, look, car, mail, thank, bring, neighborhood, lerxst]</td>\n",
              "    </tr>\n",
              "    <tr>\n",
              "      <th>1</th>\n",
              "      <td>comp.sys.mac.hardware</td>\n",
              "      <td>17</td>\n",
              "      <td>[poll, final, call, summary, final, call, clock, report, keyword, acceleration, line, host, fair, number, brave, soul, upgrade, clock, oscillator, share, experience, poll, send, brief, message, detailing, experience, procedure, top, speed, attain, cpu, rate, speed, add, card, hour, usage, day, functionality, floppy, especially, request, summarize, next, day, add, network, knowledge, base, do, clock, upgrade, answer, poll, thank]</td>\n",
              "    </tr>\n",
              "    <tr>\n",
              "      <th>2</th>\n",
              "      <td>comp.sys.mac.hardware</td>\n",
              "      <td>23</td>\n",
              "      <td>[engineering, computer, network, distribution_usa, line, well, folk, finally, give, ghost, weekend, start, life, way, back, be, market, new, machine, bit, sooner, intend, be, look, pick, powerbook, maybe, bunch, question, hopefully, answer, know, dirt, powerbook, introduction, expect, would, hear, suppose, make, appearence, summer, hear, anymore, since, access, macleak, wonder, info, hear, rumor, price, drop, line, one, duos, go, recently, s, impression, display, could, probably, swing, get, disk, rather, really, feel, much, well, display, yea, look, great, store, really, good, could, solicit, opinion, people, day, worth, take, disk, size, money, hit, get, active, display, realize, real, subjective, question, have, play, machine, computer, ...]</td>\n",
              "    </tr>\n",
              "    <tr>\n",
              "      <th>3</th>\n",
              "      <td>comp.graphics</td>\n",
              "      <td>30</td>\n",
              "      <td>[division, line, host, write, write, article, know, chip, far, stuff, go, look, pretty, nice, get, quadrilateral, fill, command, require, point, weitek, address, phone, number, would, information, chip, division, thing, really, scare, person, sense, humor, winter]</td>\n",
              "    </tr>\n",
              "    <tr>\n",
              "      <th>4</th>\n",
              "      <td>sci.space</td>\n",
              "      <td>2</td>\n",
              "      <td>[question, distribution, article, write, clear, caution, warn, memory, verify, unexpected, error, wonder, expect, error, may, sorry, really, dumb, question, parity_error, memory, previously, know, condition, waivere, error, already, know, would, curious, real, meaning, expect, error, basically, know, bug, warn, system, software, thing, check, right, value, yet, set, launch, suchlike, rather, fix, code, possibly, introduce, new, bug, tell, crew, see, warn, ignore]</td>\n",
              "    </tr>\n",
              "  </tbody>\n",
              "</table>\n",
              "</div>"
            ],
            "text/plain": [
              "                   Title  ...                                                                                                                                                                                                                                                                                                                                                                                                                                                                                                                                                                                                                                                                                                                                                                                Text\n",
              "0  rec.autos              ...  [where, thing, car, nntp_poste, host, park, line, wonder, could, enlighten, car, see, day, door, sport, car, look, late, early, call, bricklin, door, really, small, addition, separate, rest, body, know, tellme, model, name, engine, year, production, car, make, history, info, funky, look, car, mail, thank, bring, neighborhood, lerxst]                                                                                                                                                                                                                                                                                                                                                                                                                                   \n",
              "1  comp.sys.mac.hardware  ...  [poll, final, call, summary, final, call, clock, report, keyword, acceleration, line, host, fair, number, brave, soul, upgrade, clock, oscillator, share, experience, poll, send, brief, message, detailing, experience, procedure, top, speed, attain, cpu, rate, speed, add, card, hour, usage, day, functionality, floppy, especially, request, summarize, next, day, add, network, knowledge, base, do, clock, upgrade, answer, poll, thank]                                                                                                                                                                                                                                                                                                                                  \n",
              "2  comp.sys.mac.hardware  ...  [engineering, computer, network, distribution_usa, line, well, folk, finally, give, ghost, weekend, start, life, way, back, be, market, new, machine, bit, sooner, intend, be, look, pick, powerbook, maybe, bunch, question, hopefully, answer, know, dirt, powerbook, introduction, expect, would, hear, suppose, make, appearence, summer, hear, anymore, since, access, macleak, wonder, info, hear, rumor, price, drop, line, one, duos, go, recently, s, impression, display, could, probably, swing, get, disk, rather, really, feel, much, well, display, yea, look, great, store, really, good, could, solicit, opinion, people, day, worth, take, disk, size, money, hit, get, active, display, realize, real, subjective, question, have, play, machine, computer, ...]\n",
              "3  comp.graphics          ...  [division, line, host, write, write, article, know, chip, far, stuff, go, look, pretty, nice, get, quadrilateral, fill, command, require, point, weitek, address, phone, number, would, information, chip, division, thing, really, scare, person, sense, humor, winter]                                                                                                                                                                                                                                                                                                                                                                                                                                                                                                          \n",
              "4  sci.space              ...  [question, distribution, article, write, clear, caution, warn, memory, verify, unexpected, error, wonder, expect, error, may, sorry, really, dumb, question, parity_error, memory, previously, know, condition, waivere, error, already, know, would, curious, real, meaning, expect, error, basically, know, bug, warn, system, software, thing, check, right, value, yet, set, launch, suchlike, rather, fix, code, possibly, introduce, new, bug, tell, crew, see, warn, ignore]                                                                                                                                                                                                                                                                                               \n",
              "\n",
              "[5 rows x 3 columns]"
            ]
          },
          "metadata": {
            "tags": []
          },
          "execution_count": 216
        }
      ]
    },
    {
      "cell_type": "markdown",
      "metadata": {
        "id": "NDxRKxx2bmwo"
      },
      "source": [
        "посчитали в скольких текстах встречаются главные топики"
      ]
    },
    {
      "cell_type": "code",
      "metadata": {
        "id": "9xxcTP4TaT5R",
        "outputId": "64d82d58-975e-4e50-ef16-9d4da2ff90d2",
        "colab": {
          "base_uri": "https://localhost:8080/",
          "height": 195
        }
      },
      "source": [
        "main_df = topic_df.groupby('Topic').agg(\n",
        "                                  Doc_Count = ('Topic', np.size),\n",
        "                                  Total_Docs_Perc = ('Topic', np.size)).reset_index()\n",
        "main_df.head()"
      ],
      "execution_count": 219,
      "outputs": [
        {
          "output_type": "execute_result",
          "data": {
            "text/html": [
              "<div>\n",
              "<style scoped>\n",
              "    .dataframe tbody tr th:only-of-type {\n",
              "        vertical-align: middle;\n",
              "    }\n",
              "\n",
              "    .dataframe tbody tr th {\n",
              "        vertical-align: top;\n",
              "    }\n",
              "\n",
              "    .dataframe thead th {\n",
              "        text-align: right;\n",
              "    }\n",
              "</style>\n",
              "<table border=\"1\" class=\"dataframe\">\n",
              "  <thead>\n",
              "    <tr style=\"text-align: right;\">\n",
              "      <th></th>\n",
              "      <th>Topic</th>\n",
              "      <th>Doc_Count</th>\n",
              "      <th>Total_Docs_Perc</th>\n",
              "    </tr>\n",
              "  </thead>\n",
              "  <tbody>\n",
              "    <tr>\n",
              "      <th>0</th>\n",
              "      <td>1</td>\n",
              "      <td>810</td>\n",
              "      <td>810</td>\n",
              "    </tr>\n",
              "    <tr>\n",
              "      <th>1</th>\n",
              "      <td>2</td>\n",
              "      <td>216</td>\n",
              "      <td>216</td>\n",
              "    </tr>\n",
              "    <tr>\n",
              "      <th>2</th>\n",
              "      <td>3</td>\n",
              "      <td>466</td>\n",
              "      <td>466</td>\n",
              "    </tr>\n",
              "    <tr>\n",
              "      <th>3</th>\n",
              "      <td>4</td>\n",
              "      <td>454</td>\n",
              "      <td>454</td>\n",
              "    </tr>\n",
              "    <tr>\n",
              "      <th>4</th>\n",
              "      <td>5</td>\n",
              "      <td>273</td>\n",
              "      <td>273</td>\n",
              "    </tr>\n",
              "  </tbody>\n",
              "</table>\n",
              "</div>"
            ],
            "text/plain": [
              "   Topic  Doc_Count  Total_Docs_Perc\n",
              "0  1      810        810            \n",
              "1  2      216        216            \n",
              "2  3      466        466            \n",
              "3  4      454        454            \n",
              "4  5      273        273            "
            ]
          },
          "metadata": {
            "tags": []
          },
          "execution_count": 219
        }
      ]
    },
    {
      "cell_type": "markdown",
      "metadata": {
        "id": "GwpyfpUVcC-c"
      },
      "source": [
        "считаем **tf-idf**"
      ]
    },
    {
      "cell_type": "code",
      "metadata": {
        "id": "Qx8W5QlYtVhR"
      },
      "source": [
        "topics = [item[0]+1 for item in corpus_topics] #список всех главных топиков \n",
        "\n"
      ],
      "execution_count": 235,
      "outputs": []
    },
    {
      "cell_type": "code",
      "metadata": {
        "id": "uBmdZw5SrZ5V"
      },
      "source": [
        "from sklearn.feature_extraction.text import TfidfVectorizer\n",
        "vectorizer = TfidfVectorizer(use_idf=True)\n",
        "new_df = pd.DataFrame(columns=['topic', 'text', 'words'])"
      ],
      "execution_count": 228,
      "outputs": []
    },
    {
      "cell_type": "code",
      "metadata": {
        "id": "1afC6hRRsE_Z"
      },
      "source": [
        "for topic in topics:\n",
        "  text = []\n",
        "  id = []\n",
        "  for i, word in enumerate(texts):\n",
        "    if topic_df['Topic'][i] == topic:\n",
        "      text.append(' '.join(word))\n",
        "      id.append(i)\n",
        "  vectors = vectorizer.fit_transform(text)\n",
        "  for text, j in enumerate(id):\n",
        "    vector = vectors[text]\n",
        "    df_v = pd.DataFrame(vector.T.todense(), index=vectorizer.get_feature_names(), columns=[\"tfidf\"]) \n",
        "    words = list(df_v.sort_values(by=[\"tfidf\"],ascending=False).index[:5])\n",
        "    new_df = new_df.append({'topic':row,'text':data[j], 'words': words},ignore_index=True)"
      ],
      "execution_count": 231,
      "outputs": []
    },
    {
      "cell_type": "code",
      "metadata": {
        "id": "iFT8Z3wvJSQF",
        "outputId": "06793ec1-b03a-458c-ef87-ccc61efc654f",
        "colab": {
          "base_uri": "https://localhost:8080/",
          "height": 1000
        }
      },
      "source": [
        "new_df.head()"
      ],
      "execution_count": 234,
      "outputs": [
        {
          "output_type": "execute_result",
          "data": {
            "text/html": [
              "<div>\n",
              "<style scoped>\n",
              "    .dataframe tbody tr th:only-of-type {\n",
              "        vertical-align: middle;\n",
              "    }\n",
              "\n",
              "    .dataframe tbody tr th {\n",
              "        vertical-align: top;\n",
              "    }\n",
              "\n",
              "    .dataframe thead th {\n",
              "        text-align: right;\n",
              "    }\n",
              "</style>\n",
              "<table border=\"1\" class=\"dataframe\">\n",
              "  <thead>\n",
              "    <tr style=\"text-align: right;\">\n",
              "      <th></th>\n",
              "      <th>topic</th>\n",
              "      <th>text</th>\n",
              "      <th>words</th>\n",
              "    </tr>\n",
              "  </thead>\n",
              "  <tbody>\n",
              "    <tr>\n",
              "      <th>0</th>\n",
              "      <td>5</td>\n",
              "      <td>From: (wheres my thing) Subject: WHAT car is this!? Nntp-Posting-Host: rac3.wam.umd.edu Organization: University of Maryland, College Park Lines: 15 I was wondering if anyone out there could enlighten me on this car I saw the other day. It was a 2-door sports car, looked to be from the late 60s/ early 70s. It was called a Bricklin. The doors were really small. In addition, the front bumper was separate from the rest of the body. This is all I know. If anyone can tellme a model name, engine specs, years of production, where this car is made, history, or whatever info you have on this funky looking car, please e-mail. Thanks, - IL ---- brought to you by your neighborhood Lerxst ----</td>\n",
              "      <td>[car, door, tellme, bricklin, lerxst]</td>\n",
              "    </tr>\n",
              "    <tr>\n",
              "      <th>1</th>\n",
              "      <td>5</td>\n",
              "      <td>From: (Irwin Arnstein) Subject: Re: Recommendation on Duc Summary: Whats it worth? Distribution: usa Expires: Sat, 1 May 1993 05:00:00 GMT Organization: CompuTrac Inc., Richardson TX Keywords: Ducati, GTS, How much? Lines: 13 I have a line on a Ducati 900GTS 1978 model with 17k on the clock. Runs very well, paint is the bronze/brown/orange faded out, leaks a bit of oil and pops out of 1st with hard accel. The shop will fix trans and oil leak. They sold the bike to the 1 and only owner. They want $3495, and I am thinking more like $3K. Any opinions out there? Please email me. Thanks. It would be a nice stable mate to the Beemer. Then Ill get a jap bike and call myself Axis Motors! -- ----------------------------------------------------------------------- \"Tuba\" (Irwin) \"I honk therefore I am\" CompuTrac-Richardson,Tx DoD #0826 (R75/6) -----------------------------------------------------------------------</td>\n",
              "      <td>[ducati, mate, gts, computrac_inc, bronze]</td>\n",
              "    </tr>\n",
              "    <tr>\n",
              "      <th>2</th>\n",
              "      <td>5</td>\n",
              "      <td>From: (Kevin Parker) Subject: Insurance Rates on Performance Cars SUMMARY Organization: Louisiana Tech University Lines: 244 NNTP-Posting-Host: vm.cc.latech.edu X-Newsreader: NNR/VM S_1.3.2 I recently posted an article asking what kind of rates single, male drivers under 25 yrs old were paying on performance cars. Heres a summary of the replies I received. ------------------------------------------------------------------------------- Im not under 25 anymore (but is 27 close enough). 1992 Dodge Stealth RT/Twin Turbo (300hp model). No tickets, no accidents, own a house, have taken defensive driving 1, airbag, abs, security alarm, single. $1500/year $500 decut. State Farm Insurance (this includes the additional $100 for the $1,000,000 umbrella policy over my car and house) The base policy is the standard $100,000 - $100,000 - $300,000 policy required in DE. After 2nd defensive driving course it will be 5% less. I bought the car in September 1992. The company I was with (never had and accident or ticket in 11 years) quoted me $2,500. Hope this helps. Steve Flynn University of Delaware ======================================================================== 45 Kevin: (Hope I remembered your name correctly)... You asked about insurance for performance cars. Well, last year I was in a similar situation before I bought my car, and made the same inquiry as you. Age: 24 (then and now) Car: 1992 Eagle Talon TSi AWD Driving Record: Clean State: Illinois Cost: $820/6 mos. I turn 25 in May and the insurance goes down to $520/6 mos. Also, Im single and that incurs a higher rate with my company. Ive got a couple other friends w/ AWDs and they pay more than I do (different ins. companies also), so maybe Im just lucky. Hope the info helps. Dan Motorola Cellular Subscriber Group ======================================================================== 38 USA Cc: Im 23; live in Norman, Oklahoma; drive an 89 Thunderbird SC; have never made a claim against my insurance (though I have been hit several times by negligent drivers who couldnt see stop signs or were fiddling with their radios); and I have had three moving violations in the last 18 months (one for going 85 in a 55; one for \"failure to clear an intersection\" (I still say the damn light was yellow); and one for going 35 in a 25 (which didnt go on my record)). My rates from State Farm (with a passive restraint deduction) on liability, $500 deductible comprehensive, and $500 deductible collision are roughly $1300/year. (I was paying just over $1100/year for a 92 Escort LX.) James James P. Callison Microcomputer Coordinator, U of Oklahoma Law Center /\\ DISCLAIMER: Im not an engineer, but I play one at work... The forecast calls for Thunder...89 T-Bird SC \"Its a hell of a thing, killing a man. You take away all he has and all hes ever gonna have.\" --Will Munny, \"Unforgiven\" ======================================================================== 61 I am beyond the \"under 25\" age group, but I have an experience a few years ago that might be interesting to you. I owned a 1985 Toyota Celica GT. I decided to buy myself a gift - a more exotic car. Front runners included the Toyota Supra Turbo and the Porsche 924 (1987 model years). I narrowed it down to those two. I liked the simplicity and handling (and snob appeal, too) of driving a Porsche. The Supra Turbo was less money and had more features and performance - almost a personal luxury car. It had better acceleration and a higher top speed than the 924. I was almost ready to give in to a buying impulse for the 924, but i decided to stop by my insurance agents office on the way. I asked about what would happen to my rate with either car. \"If you buy the Supra, your rate classification will be the same as the Celica (the 85 Celica was considered a subcompact and for that year was rated as one of the safest cars), with a slight increase because the car will be 2 years newer. Our lower-risk division will continue to handle your account. \"If you buy the Porsche 924, well have to change you to the standard [higher] rate company and your rate will double. And if you go with a 944, its another story again - well cover the rest of this year, but cancel you after that.\" \"But the Supra is much faster than the 924, and the 924 is actually faster than the [standard] 944. That doenst make sense.\" Thats what the book says. We dont insure Corvettes, either. For some reason, the underwriters consider Supras - and their drivers - as very traditional and conservative.\" I eventually went with the Supra for a number of reasons. The Porsche dealer had a nice salesman to get me interested, but a tough high-pressure guy in the back room. At equal monthly payments, it would have taken a year longer to pay for the Porsche, plus its higher insurance. I concluded that the high insurance was related to probability of auto theft. /|/| /||)|/ /~ /\\| |\\|)[~|)/~ | Everyones entitled to MY opinion. / | |/ ||\\|\\ \\_|\\/|_|/|)[_|\\\\_| | ========Imagination is more important than knowledge. - Albert Einstein======= ======================================================================== 32 I live in Idaho. When I was &lt;26 many years ago (10 years) I bought a Trans Am (new). Insurance was about $1300/year. When I turned 26, it immediately dropped to $460/year. I had not had any accidents before or after, this was strictly an age change. That same rate stayed pretty much the same until I sold the car 2 years ago. My F-150 pickup is about $80/year less. The real amazing thing is that when I woke up at age 25, I felt SO MUCH MORE RESPONSIBLE than I was before... :-) Wes ======================================================================== 21 For your information: California Male, single, under 25 , No moving violation Alfa Spider =======&gt; $2000 / year What a bargain!!! ======================================================================== 28 Lets see, Im 24, single, male, clean driving record. I have a 92 VW COrrado VR6. I live in San Jose, California. I pay ~1500$ a year through Allstate. A good deal if you ask me. I was thinking about getting a Talon, but I think the insurance is higher for a \"turbo\" sports car vs a V6 -W ======================================================================== 27 1986 Honda CRX Si, clean record, in a small New Mexico town was around $800 per year, age 24. Nearby city rates were 1.5X-2X higher than where Ive got mine insured. ..robert -- Robert Stack / Institute of Transportation Studies, Univ of California-Irvine 92 Mazda Protege LX ======================================================================== 37 1300 per year, 1992 Saturn SC, 21 Years old, State: New Mexico, Insurance: State Farm. ======================================================================== 64 Here is my info: Car : 89 Toyota Celica ST Insurance Co : Farmers Insurance Yearly insurance: $2028 Age : 24 Date of license : Oct 14, 1992 Residence : Mountain View, California No moving violations (for now atleast ;-) Hope this helps. Please post a summary if possible. Vijay ********************************************************************** Vijay Anisetti Email: Apt: (415)962-0320 Off: (415)926-6547 ======================================================================== 38 Single, 24 years old, Eagle Talon Turbo AWD, $1200 (full-cover, reasonable liability) No tickets, No violations, No accidents... (knock on wood...) Mass, One thing that makes a HUGE difference in MASS is the town you live in. Im personally in one of the best towns within reasonable distance of Boston. If I moved to the absolute best it would go down to about $1150, if I moved to the worst it would be $2000+.. Also one accident and a couple of tickets, would probably add another $600... _RV ======================================================================== 43 I have a 1990 Mitsubishi eclipse turbo awd, am 23 years old and have no tickets that went on my record. I live in Illinois just outside of Chicago and pay $1560 a year with full coverage at State Farm. I did get a small discount because of my alarm system($30 a year). I only live 15 miles from Chicago but if I actually lived in the city the price would be about $2000 a year. ======================================================================== 41 Im over 25, but in case youre interested anyway, Im insuring a 93 SHO for $287/6 month. Thats 100k personal+300k total+100k property with 250 deductible, glass and towing, State Farm. ======================================================================== 39 Unless you are under 20 or have been driving for less than 5 years, I think you are being seriously ripped off. I dont have one of the performance cars you listed, but if your record is clean, then you should not be paying over $2K. Did you try calling all the insurance dealers you could find? Although rates are supposed to be standardized, Ive found that most places I initially call, give me some ridiculously high quote and *finaly*, I hit one that is much lower. Also, I have changed insurance companies when the rate went up at renewal (no accidents, tickets, car gets older??) to maintain a low rate. You always have to be careful when it comes to insurance companies 8^). Good luck, Serge</td>\n",
              "      <td>[year, insurance, rate, age, car]</td>\n",
              "    </tr>\n",
              "    <tr>\n",
              "      <th>3</th>\n",
              "      <td>5</td>\n",
              "      <td>From: (Jim Frost) Subject: Re: Is car saftey important? Organization: CenterLine Software, Inc. Lines: 14 NNTP-Posting-Host: 140.239.3.202 (Trevor Corkum) writes: &gt;Is it only me, or is &gt;safety not one of the most important factors when buying a car? It depends on your priorities. A lot of people put higher priorities on gas mileage and cost than on safety, buying \"unsafe\" econoboxes instead of Volvos. I personally take a middle ground -- the only thing I really look for is a three-point seatbelt and 5+mph bumpers. I figure that 30mph collisions into brick walls arent common enough for me to spend that much extra money for protection, but there are lots of low-speed collisions that do worry me. jim frost</td>\n",
              "      <td>[priority, collision, important, safety, econoboxe]</td>\n",
              "    </tr>\n",
              "    <tr>\n",
              "      <th>4</th>\n",
              "      <td>5</td>\n",
              "      <td>From: (eliot) Subject: Re: Improvements in Automatic Transmissions Keywords: Saturn, Subaru, manual, automatic Article-I.D.: engr.Apr19.045221.19525 Organization: clearer than blir Lines: 40 NNTP-Posting-Host: lanmola.engr.washington.edu an excellent automatic can be found in the subaru legacy. it switches to \"sport\" mode when the electronics figure it, not when the driver sets the switch.. which is the proper way to do it, IMO. so what does \"sport\" mode entail? several things: 1) revving to red line (or to the rev limiter in the case of the legacy) 2) delayed upshifts. (i.e. if you lift off briefly, it will remain in the low gear. this is handy if you are charging through corners and would like to do without the distraction of upshifts when theres another curve approaching) 3) part throttle downshifts, based on the *speed* at which the pedal is depressed, rather than the *position* of the pedal. modern electronics can measure this very easily and switch to sport mode. this is wonderful if you want to charge through a green light about to turn red. my audi senses this very well and can downshift on as little as half throttle if my right foot is fast enough. also, i think that a smart automatic can deliver better gas mileage than a dumb driver with a stick, all else being equal.. remember that the idea of a stick being more economical than an automatic makes a big assumption that the driver is smart enough to know what gear to use for each situation.. how many times have you ridden with an inattentive driver cruising on the highway at 55/65 in 4th gear (of a 5 speed)? how many % of people who drive manuals *really* know what the best gear to use is for every conceivable situation? im sure there will be some who know, but i suspect that a chip controlled automatic with all possible scenario/ratio combinations stored in ROM is likely to do better. i can also say that all my previous assumptions were proved wrong after i got a car with instantaneous mpg readout... high gear, low revs and wide open throttle is more economical than low gear, high revs and small throttle opening. the explanation is quite simple if one sits down to think about it, but not that obvious at first sight. eliot</td>\n",
              "      <td>[gear, throttle, mode, automatic, assumption]</td>\n",
              "    </tr>\n",
              "  </tbody>\n",
              "</table>\n",
              "</div>"
            ],
            "text/plain": [
              "  topic  ...                                                words\n",
              "0  5     ...  [car, door, tellme, bricklin, lerxst]              \n",
              "1  5     ...  [ducati, mate, gts, computrac_inc, bronze]         \n",
              "2  5     ...  [year, insurance, rate, age, car]                  \n",
              "3  5     ...  [priority, collision, important, safety, econoboxe]\n",
              "4  5     ...  [gear, throttle, mode, automatic, assumption]      \n",
              "\n",
              "[5 rows x 3 columns]"
            ]
          },
          "metadata": {
            "tags": []
          },
          "execution_count": 234
        }
      ]
    },
    {
      "cell_type": "markdown",
      "metadata": {
        "id": "nXIGkA4iGN31"
      },
      "source": [
        "coherence score"
      ]
    },
    {
      "cell_type": "markdown",
      "metadata": {
        "id": "CmSoqT0YhZip"
      },
      "source": [
        "Благодаря метрикам coherence мы можем разделить условно все топики на плохие и хорошие. Как это происходит:\n",
        "\n",
        "\n",
        "1.   набор слов t сегментируется на набор пар подмножеств слов S\n",
        "2.   вероятности слов P вычисляются на основе заданного эталонного корпуса\n",
        "3.   набор подмножеств слов S и полученные вероятности используются в дальнейшем для получения когерентности C (то есть связи между ними)\n",
        "\n",
        "По сути этот показатель измеряет топик посредством вычисления степени семантической близости слов с большим весом (то есть большой вероятностью). У этой штуки есть два метода: внутренний (сравнение попарно последовательно идущих слов) и внешний (сравнение любых пар слов в тексте).\n",
        "\n"
      ]
    }
  ]
}